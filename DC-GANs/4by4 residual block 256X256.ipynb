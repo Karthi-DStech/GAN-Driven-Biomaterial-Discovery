{
 "cells": [
  {
   "cell_type": "markdown",
   "id": "405b2d7b",
   "metadata": {},
   "source": [
    "**Imports**"
   ]
  },
  {
   "cell_type": "code",
   "execution_count": 1,
   "id": "68298985",
   "metadata": {},
   "outputs": [],
   "source": [
    "import torch\n",
    "import torch.nn as nn\n",
    "import torch.nn.functional as F\n",
    "\n",
    "from torch.utils.data import DataLoader\n",
    "from torchvision import transforms, datasets, models\n",
    "import torchvision\n",
    "\n",
    "import numpy as np\n",
    "import pandas as pd\n",
    "import matplotlib.pyplot as plt\n",
    "import seaborn as sns\n",
    "from torch.utils.tensorboard import SummaryWriter"
   ]
  },
  {
   "cell_type": "code",
   "execution_count": 2,
   "id": "e6f04042",
   "metadata": {},
   "outputs": [],
   "source": [
    "import os\n",
    "from PIL import Image\n",
    "from IPython.display import display\n",
    "\n",
    "import warnings\n",
    "warnings.filterwarnings('ignore')"
   ]
  },
  {
   "cell_type": "code",
   "execution_count": 3,
   "id": "1dd48e7a",
   "metadata": {},
   "outputs": [],
   "source": [
    "import torch.optim as optim"
   ]
  },
  {
   "cell_type": "code",
   "execution_count": null,
   "id": "94dc276d",
   "metadata": {},
   "outputs": [],
   "source": []
  },
  {
   "cell_type": "markdown",
   "id": "222176c7",
   "metadata": {},
   "source": [
    "**Load the file path**"
   ]
  },
  {
   "cell_type": "code",
   "execution_count": 4,
   "id": "f928f6e0",
   "metadata": {},
   "outputs": [],
   "source": [
    "image_path = '/Users/karthik/GANS/4by4-TOPO-24X224/bio_materials/Pattern_FeatureIdx_1002_TopoUnit_4X4.png'"
   ]
  },
  {
   "cell_type": "code",
   "execution_count": 5,
   "id": "61040ee5",
   "metadata": {},
   "outputs": [
    {
     "data": {
      "image/png": "[encoded data removed]",
      "text/plain": [
       "<PIL.PngImagePlugin.PngImageFile image mode=RGB size=224x224>"
      ]
     },
     "metadata": {},
     "output_type": "display_data"
    }
   ],
   "source": [
    "with Image.open(image_path) as img:\n",
    "    display(img)"
   ]
  },
  {
   "cell_type": "code",
   "execution_count": null,
   "id": "afc95e0a",
   "metadata": {},
   "outputs": [],
   "source": []
  },
  {
   "cell_type": "code",
   "execution_count": 6,
   "id": "93e40da4",
   "metadata": {},
   "outputs": [
    {
     "name": "stdout",
     "output_type": "stream",
     "text": [
      "Images:  2176\n"
     ]
    }
   ],
   "source": [
    "path = '/Users/karthik/GANS/4by4-TOPO-24X224/bio_materials/'\n",
    "\n",
    "img_names = []\n",
    "\n",
    "for folder, subfolders, filenames in os.walk(path):\n",
    "    for img in filenames:\n",
    "        img_names.append(folder+ '/' +img)\n",
    "        \n",
    "print('Images: ',len(img_names))"
   ]
  },
  {
   "cell_type": "code",
   "execution_count": null,
   "id": "810ff9b5",
   "metadata": {},
   "outputs": [],
   "source": []
  },
  {
   "cell_type": "code",
   "execution_count": 7,
   "id": "ae5206eb",
   "metadata": {},
   "outputs": [],
   "source": [
    "img_sizes = []\n",
    "\n",
    "rejected = []\n",
    "\n",
    "for item in img_names:\n",
    "    try:\n",
    "        with Image.open(item) as img:\n",
    "            img_sizes.append(img.size)\n",
    "            \n",
    "    except:\n",
    "        rejected.append(item) "
   ]
  },
  {
   "cell_type": "code",
   "execution_count": null,
   "id": "aa7abd06",
   "metadata": {},
   "outputs": [],
   "source": []
  },
  {
   "cell_type": "code",
   "execution_count": 8,
   "id": "b27684de",
   "metadata": {},
   "outputs": [
    {
     "name": "stdout",
     "output_type": "stream",
     "text": [
      "2176\n"
     ]
    }
   ],
   "source": [
    "print(len(img_sizes))"
   ]
  },
  {
   "cell_type": "code",
   "execution_count": null,
   "id": "d3209c34",
   "metadata": {},
   "outputs": [],
   "source": []
  },
  {
   "cell_type": "code",
   "execution_count": 9,
   "id": "59f1abdd",
   "metadata": {},
   "outputs": [],
   "source": [
    "df = pd.DataFrame(img_sizes)"
   ]
  },
  {
   "cell_type": "code",
   "execution_count": 10,
   "id": "82279e2a",
   "metadata": {},
   "outputs": [
    {
     "data": {
      "text/html": [
       "<div>\n",
       "<style scoped>\n",
       "    .dataframe tbody tr th:only-of-type {\n",
       "        vertical-align: middle;\n",
       "    }\n",
       "\n",
       "    .dataframe tbody tr th {\n",
       "        vertical-align: top;\n",
       "    }\n",
       "\n",
       "    .dataframe thead th {\n",
       "        text-align: right;\n",
       "    }\n",
       "</style>\n",
       "<table border=\"1\" class=\"dataframe\">\n",
       "  <thead>\n",
       "    <tr style=\"text-align: right;\">\n",
       "      <th></th>\n",
       "      <th>0</th>\n",
       "      <th>1</th>\n",
       "    </tr>\n",
       "  </thead>\n",
       "  <tbody>\n",
       "    <tr>\n",
       "      <th>0</th>\n",
       "      <td>224</td>\n",
       "      <td>224</td>\n",
       "    </tr>\n",
       "    <tr>\n",
       "      <th>1</th>\n",
       "      <td>224</td>\n",
       "      <td>224</td>\n",
       "    </tr>\n",
       "    <tr>\n",
       "      <th>2</th>\n",
       "      <td>224</td>\n",
       "      <td>224</td>\n",
       "    </tr>\n",
       "    <tr>\n",
       "      <th>3</th>\n",
       "      <td>224</td>\n",
       "      <td>224</td>\n",
       "    </tr>\n",
       "    <tr>\n",
       "      <th>4</th>\n",
       "      <td>224</td>\n",
       "      <td>224</td>\n",
       "    </tr>\n",
       "  </tbody>\n",
       "</table>\n",
       "</div>"
      ],
      "text/plain": [
       "     0    1\n",
       "0  224  224\n",
       "1  224  224\n",
       "2  224  224\n",
       "3  224  224\n",
       "4  224  224"
      ]
     },
     "execution_count": 10,
     "metadata": {},
     "output_type": "execute_result"
    }
   ],
   "source": [
    "df.head()"
   ]
  },
  {
   "cell_type": "code",
   "execution_count": null,
   "id": "7a09a6d7",
   "metadata": {},
   "outputs": [],
   "source": []
  },
  {
   "cell_type": "code",
   "execution_count": 11,
   "id": "f922f4fb",
   "metadata": {},
   "outputs": [
    {
     "data": {
      "text/html": [
       "<div>\n",
       "<style scoped>\n",
       "    .dataframe tbody tr th:only-of-type {\n",
       "        vertical-align: middle;\n",
       "    }\n",
       "\n",
       "    .dataframe tbody tr th {\n",
       "        vertical-align: top;\n",
       "    }\n",
       "\n",
       "    .dataframe thead th {\n",
       "        text-align: right;\n",
       "    }\n",
       "</style>\n",
       "<table border=\"1\" class=\"dataframe\">\n",
       "  <thead>\n",
       "    <tr style=\"text-align: right;\">\n",
       "      <th></th>\n",
       "      <th>0</th>\n",
       "      <th>1</th>\n",
       "    </tr>\n",
       "  </thead>\n",
       "  <tbody>\n",
       "    <tr>\n",
       "      <th>count</th>\n",
       "      <td>2176.0</td>\n",
       "      <td>2176.0</td>\n",
       "    </tr>\n",
       "    <tr>\n",
       "      <th>mean</th>\n",
       "      <td>224.0</td>\n",
       "      <td>224.0</td>\n",
       "    </tr>\n",
       "    <tr>\n",
       "      <th>std</th>\n",
       "      <td>0.0</td>\n",
       "      <td>0.0</td>\n",
       "    </tr>\n",
       "    <tr>\n",
       "      <th>min</th>\n",
       "      <td>224.0</td>\n",
       "      <td>224.0</td>\n",
       "    </tr>\n",
       "    <tr>\n",
       "      <th>25%</th>\n",
       "      <td>224.0</td>\n",
       "      <td>224.0</td>\n",
       "    </tr>\n",
       "    <tr>\n",
       "      <th>50%</th>\n",
       "      <td>224.0</td>\n",
       "      <td>224.0</td>\n",
       "    </tr>\n",
       "    <tr>\n",
       "      <th>75%</th>\n",
       "      <td>224.0</td>\n",
       "      <td>224.0</td>\n",
       "    </tr>\n",
       "    <tr>\n",
       "      <th>max</th>\n",
       "      <td>224.0</td>\n",
       "      <td>224.0</td>\n",
       "    </tr>\n",
       "  </tbody>\n",
       "</table>\n",
       "</div>"
      ],
      "text/plain": [
       "            0       1\n",
       "count  2176.0  2176.0\n",
       "mean    224.0   224.0\n",
       "std       0.0     0.0\n",
       "min     224.0   224.0\n",
       "25%     224.0   224.0\n",
       "50%     224.0   224.0\n",
       "75%     224.0   224.0\n",
       "max     224.0   224.0"
      ]
     },
     "execution_count": 11,
     "metadata": {},
     "output_type": "execute_result"
    }
   ],
   "source": [
    "df.describe()"
   ]
  },
  {
   "cell_type": "code",
   "execution_count": null,
   "id": "d74d43a5",
   "metadata": {},
   "outputs": [],
   "source": []
  },
  {
   "cell_type": "markdown",
   "id": "14e0dd3d",
   "metadata": {},
   "source": [
    "**Residual Block**"
   ]
  },
  {
   "cell_type": "code",
   "execution_count": 12,
   "id": "507003fd",
   "metadata": {},
   "outputs": [],
   "source": [
    "class ResidualBlock(nn.Module):\n",
    "    def __init__(self, in_features):\n",
    "        super(ResidualBlock, self).__init__()\n",
    "\n",
    "        self.block = nn.Sequential(\n",
    "            nn.Conv2d(in_features, in_features, kernel_size=3, stride=1, padding=1, bias=False),\n",
    "            nn.BatchNorm2d(in_features),\n",
    "            nn.ReLU(inplace=True),\n",
    "            nn.Conv2d(in_features, in_features, kernel_size=3, stride=1, padding=1, bias=False),\n",
    "            nn.BatchNorm2d(in_features)\n",
    "        )\n",
    "\n",
    "    def forward(self, x):\n",
    "        return x + self.block(x)"
   ]
  },
  {
   "cell_type": "code",
   "execution_count": null,
   "id": "891d2084",
   "metadata": {},
   "outputs": [],
   "source": []
  },
  {
   "cell_type": "markdown",
   "id": "3140757e",
   "metadata": {},
   "source": [
    "**Constructing the Discriminator**"
   ]
  },
  {
   "cell_type": "code",
   "execution_count": 13,
   "id": "0979d6a7",
   "metadata": {},
   "outputs": [],
   "source": [
    "class Discriminator(nn.Module):\n",
    "    def __init__(self, channels_img, features_d):\n",
    "        super(Discriminator, self).__init__()\n",
    "\n",
    "        self.disc = nn.Sequential(\n",
    "            nn.Conv2d(channels_img, features_d, kernel_size=4, stride=2, padding=1),\n",
    "            nn.LeakyReLU(0.2),\n",
    "\n",
    "            self._block(features_d, features_d * 2, 4, 2, 1),\n",
    "            ResidualBlock(features_d * 2),\n",
    "\n",
    "            self._block(features_d * 2, features_d * 4, 4, 2, 1),\n",
    "            ResidualBlock(features_d * 4),\n",
    "\n",
    "            self._block(features_d * 4, features_d * 8, 4, 2, 1),\n",
    "            ResidualBlock(features_d * 8),\n",
    "\n",
    "            self._block(features_d * 8, features_d * 16, 4, 2, 1),\n",
    "            ResidualBlock(features_d * 16),\n",
    "\n",
    "            self._block(features_d * 16, features_d * 32, 4, 2, 1),\n",
    "            ResidualBlock(features_d * 32),\n",
    "            \n",
    "            nn.Conv2d(features_d * 32, 1, kernel_size=4, stride=2, padding=1),\n",
    "            nn.Sigmoid()\n",
    "        )\n",
    "\n",
    "    def _block(self, in_channels, out_channels, kernel_size, stride, padding):\n",
    "        return nn.Sequential(\n",
    "            nn.Conv2d(in_channels, out_channels, kernel_size, stride, padding, bias=False),\n",
    "            nn.BatchNorm2d(out_channels),\n",
    "            nn.LeakyReLU(0.2)\n",
    "        )\n",
    "\n",
    "    def forward(self, x):\n",
    "        return self.disc(x)"
   ]
  },
  {
   "cell_type": "code",
   "execution_count": null,
   "id": "cefb536a",
   "metadata": {},
   "outputs": [],
   "source": []
  },
  {
   "cell_type": "code",
   "execution_count": null,
   "id": "62bf6200",
   "metadata": {},
   "outputs": [],
   "source": []
  },
  {
   "cell_type": "markdown",
   "id": "83afc124",
   "metadata": {},
   "source": [
    "    def forward(self, x):\n",
    "        for layer in self.disc:\n",
    "            x = layer(x)\n",
    "            print(\"Layer output size:\", x.shape)  # Debugging print\n",
    "        return x\n",
    "    \n",
    "channels_img = 1  \n",
    "features_d = 64\n",
    "disc = Discriminator(channels_img, features_d)\n",
    "\n",
    "dummy_input = torch.randn(1, channels_img, 128, 128)  \n",
    "output = disc(dummy_input)"
   ]
  },
  {
   "cell_type": "code",
   "execution_count": null,
   "id": "aeb00919",
   "metadata": {},
   "outputs": [],
   "source": []
  },
  {
   "cell_type": "code",
   "execution_count": null,
   "id": "9bc90bfd",
   "metadata": {},
   "outputs": [],
   "source": []
  },
  {
   "cell_type": "markdown",
   "id": "e2a6f2c0",
   "metadata": {},
   "source": [
    "**Constructing the Generator**"
   ]
  },
  {
   "cell_type": "code",
   "execution_count": 14,
   "id": "8350693b",
   "metadata": {},
   "outputs": [],
   "source": [
    "class Generator(nn.Module):\n",
    "    def __init__(self, z_dim, channels_img, features_g):\n",
    "        super(Generator, self).__init__()\n",
    "\n",
    "        self.gen = nn.Sequential(\n",
    "            # Start with a 4x4 image\n",
    "            self._block(z_dim, features_g * 16, 4, 1, 0), \n",
    "            ResidualBlock(features_g * 16),\n",
    "            # Upsample to 8x8\n",
    "            self._block(features_g * 16, features_g * 8, 4, 2, 1),\n",
    "            ResidualBlock(features_g * 8),\n",
    "            # Upsample to 16x16\n",
    "            self._block(features_g * 8, features_g * 4, 4, 2, 1),\n",
    "            ResidualBlock(features_g * 4),\n",
    "            # Upsample to 32x32\n",
    "            self._block(features_g * 4, features_g * 2, 4, 2, 1),\n",
    "            ResidualBlock(features_g * 2),\n",
    "            # Upsample to 64x64\n",
    "            self._block(features_g * 2, features_g, 4, 2, 1),  \n",
    "            ResidualBlock(features_g),\n",
    "            # Upsample to 128x128\n",
    "            self._block(features_g, features_g // 2, 4, 2, 1),\n",
    "            ResidualBlock(features_g // 2),\n",
    "            # Upsample to 256x256\n",
    "            nn.ConvTranspose2d(features_g // 2, channels_img, kernel_size=4, stride=2, padding=1),\n",
    "            nn.Tanh()\n",
    "        )\n",
    "\n",
    "    def _block(self, in_channels, out_channels, kernel_size, stride, padding):\n",
    "        return nn.Sequential(\n",
    "            nn.ConvTranspose2d(in_channels, out_channels, kernel_size, stride, padding, bias=False),\n",
    "            nn.BatchNorm2d(out_channels),\n",
    "            nn.ReLU(inplace=True)            \n",
    "        )   \n",
    "    \n",
    "    def forward(self, x):\n",
    "        return self.gen(x)"
   ]
  },
  {
   "cell_type": "code",
   "execution_count": null,
   "id": "bc0b4ff6",
   "metadata": {},
   "outputs": [],
   "source": []
  },
  {
   "cell_type": "code",
   "execution_count": null,
   "id": "1fa387cf",
   "metadata": {},
   "outputs": [],
   "source": []
  },
  {
   "cell_type": "markdown",
   "id": "70cd7982",
   "metadata": {},
   "source": [
    "    def forward(self, x):\n",
    "        for layer in self.gen:\n",
    "            x = layer(x)\n",
    "            print(\"Layer output size:\", x.shape)  # Debugging print\n",
    "        return x\n",
    "    \n",
    "z_dim = 112 \n",
    "channels_img = 1  \n",
    "features_g = 64\n",
    "gen = Generator(z_dim, channels_img, features_g)\n",
    "\n",
    "test_input = torch.randn(1, z_dim, 1, 1)  \n",
    "output = gen(test_input) \n",
    "    \n",
    "    \n"
   ]
  },
  {
   "cell_type": "code",
   "execution_count": null,
   "id": "67c63d4d",
   "metadata": {},
   "outputs": [],
   "source": []
  },
  {
   "cell_type": "code",
   "execution_count": null,
   "id": "f47e4c27",
   "metadata": {},
   "outputs": [],
   "source": []
  },
  {
   "cell_type": "markdown",
   "id": "a0d8585c",
   "metadata": {},
   "source": [
    "**Initialising the weights**"
   ]
  },
  {
   "cell_type": "code",
   "execution_count": 15,
   "id": "77620620",
   "metadata": {},
   "outputs": [],
   "source": [
    "def initialize_weights(model):\n",
    "    \n",
    "    for m in model.modules():\n",
    "        if isinstance(m,(nn.Conv2d, nn.ConvTranspose2d, nn.BatchNorm2d)):\n",
    "            nn.init.normal_(m.weight.data, 0.0, 0.02)"
   ]
  },
  {
   "cell_type": "code",
   "execution_count": null,
   "id": "bd57b114",
   "metadata": {},
   "outputs": [],
   "source": []
  },
  {
   "cell_type": "markdown",
   "id": "c41a5a8d",
   "metadata": {},
   "source": [
    "**Parameters**"
   ]
  },
  {
   "cell_type": "code",
   "execution_count": 16,
   "id": "1a8a057f",
   "metadata": {},
   "outputs": [],
   "source": [
    "LEARNING_RATE = 3e-4\n",
    "BATCH_SIZE = 64\n",
    "IMAGE_SIZE = 256\n",
    "CHANNELS_IMG = 1\n",
    "\n",
    "Z_DIM = 112\n",
    "NUM_EPOCHS = 30\n",
    "FEATURES_DISC = 64\n",
    "FEATURES_GEN = 64"
   ]
  },
  {
   "cell_type": "code",
   "execution_count": 17,
   "id": "7af6a0e4",
   "metadata": {},
   "outputs": [],
   "source": [
    "device = torch.device(\"cuda\" if torch.cuda.is_available() else \"cpu\")"
   ]
  },
  {
   "cell_type": "markdown",
   "id": "c9424f66",
   "metadata": {},
   "source": [
    "**Initialising the weights**"
   ]
  },
  {
   "cell_type": "code",
   "execution_count": 18,
   "id": "9040392f",
   "metadata": {},
   "outputs": [],
   "source": [
    "gen = Generator(Z_DIM, CHANNELS_IMG, FEATURES_GEN).to(device)\n",
    "disc = Discriminator(CHANNELS_IMG, FEATURES_DISC).to(device)\n",
    "initialize_weights(gen)\n",
    "initialize_weights(disc)"
   ]
  },
  {
   "cell_type": "code",
   "execution_count": null,
   "id": "2513cd31",
   "metadata": {},
   "outputs": [],
   "source": []
  },
  {
   "cell_type": "markdown",
   "id": "8764514c",
   "metadata": {},
   "source": [
    "**Optimiser**"
   ]
  },
  {
   "cell_type": "code",
   "execution_count": 19,
   "id": "5a851e72",
   "metadata": {},
   "outputs": [],
   "source": [
    "opt_gen = optim.Adam(gen.parameters(), lr=LEARNING_RATE, betas=(0.5, 0.999))\n",
    "opt_disc = optim.Adam(disc.parameters(), lr=LEARNING_RATE, betas=(0.5, 0.999))\n",
    "criterion = nn.BCELoss()"
   ]
  },
  {
   "cell_type": "code",
   "execution_count": null,
   "id": "e92191b7",
   "metadata": {},
   "outputs": [],
   "source": []
  },
  {
   "cell_type": "code",
   "execution_count": 20,
   "id": "e8b08900",
   "metadata": {},
   "outputs": [],
   "source": [
    "transforms = transforms.Compose(\n",
    "    [\n",
    "        transforms.Grayscale(num_output_channels=1),\n",
    "        transforms.Resize((256,256)),\n",
    "        transforms.ToTensor(),\n",
    "        transforms.Normalize((0.5,), (0.5,))\n",
    "    ]\n",
    ")"
   ]
  },
  {
   "cell_type": "code",
   "execution_count": null,
   "id": "577f3481",
   "metadata": {},
   "outputs": [],
   "source": []
  },
  {
   "cell_type": "code",
   "execution_count": 21,
   "id": "503cc001",
   "metadata": {},
   "outputs": [
    {
     "name": "stdout",
     "output_type": "stream",
     "text": [
      "True\n"
     ]
    }
   ],
   "source": [
    "torch.manual_seed(42)\n",
    "\n",
    "root = '/Users/karthik/GANS/4by4-TOPO-24X224'\n",
    "print(os.path.exists(root))"
   ]
  },
  {
   "cell_type": "code",
   "execution_count": null,
   "id": "e0e3bb7c",
   "metadata": {},
   "outputs": [],
   "source": []
  },
  {
   "cell_type": "code",
   "execution_count": 22,
   "id": "9b828cf1",
   "metadata": {},
   "outputs": [],
   "source": [
    "import shutil\n",
    "\n",
    "class_dir = os.path.join(root, 'bio_materials')\n",
    "os.makedirs(class_dir, exist_ok=True)\n",
    "\n",
    "for entry in os.scandir(root):\n",
    "    if entry.is_file() and entry.name.endswith('.png'):  \n",
    "        shutil.move(entry.path, class_dir)\n",
    "\n",
    "\n",
    "train_data = datasets.ImageFolder(root, transform=transforms)\n",
    "train_loader = torch.utils.data.DataLoader(train_data, batch_size=BATCH_SIZE, shuffle=True)"
   ]
  },
  {
   "cell_type": "code",
   "execution_count": null,
   "id": "7b32158d",
   "metadata": {},
   "outputs": [],
   "source": []
  },
  {
   "cell_type": "code",
   "execution_count": 23,
   "id": "9039d57d",
   "metadata": {},
   "outputs": [],
   "source": [
    "for images, labels in train_loader:\n",
    "    break"
   ]
  },
  {
   "cell_type": "code",
   "execution_count": null,
   "id": "6d2a4850",
   "metadata": {},
   "outputs": [],
   "source": []
  },
  {
   "cell_type": "code",
   "execution_count": 24,
   "id": "b400bdf2",
   "metadata": {},
   "outputs": [
    {
     "data": {
      "text/plain": [
       "torch.Size([64, 1, 256, 256])"
      ]
     },
     "execution_count": 24,
     "metadata": {},
     "output_type": "execute_result"
    }
   ],
   "source": [
    "images.shape"
   ]
  },
  {
   "cell_type": "code",
   "execution_count": null,
   "id": "eed361bb",
   "metadata": {},
   "outputs": [],
   "source": []
  },
  {
   "cell_type": "code",
   "execution_count": 25,
   "id": "e8146da7",
   "metadata": {},
   "outputs": [],
   "source": [
    "fixed_noise = torch.randn(16, Z_DIM, 1, 1).to(device)\n",
    "writer_real = SummaryWriter(f\"logs/real\")\n",
    "writer_fake = SummaryWriter(f\"logs/fake\")\n",
    "step = 0"
   ]
  },
  {
   "cell_type": "code",
   "execution_count": null,
   "id": "ac8f4e88",
   "metadata": {},
   "outputs": [],
   "source": []
  },
  {
   "cell_type": "code",
   "execution_count": null,
   "id": "25a208c0",
   "metadata": {},
   "outputs": [
    {
     "name": "stdout",
     "output_type": "stream",
     "text": [
      "Epoch [0/30] Batch 0/34                   Loss D: 0.7005, loss G: 1.3860\n",
      "Epoch [0/30] Batch 17/34                   Loss D: 0.0057, loss G: 5.3948\n",
      "Epoch [1/30] Batch 0/34                   Loss D: 0.0024, loss G: 6.1719\n",
      "Epoch [1/30] Batch 17/34                   Loss D: 0.0018, loss G: 6.7892\n",
      "Epoch [2/30] Batch 0/34                   Loss D: 0.0008, loss G: 7.2079\n",
      "Epoch [2/30] Batch 17/34                   Loss D: 0.0008, loss G: 7.3404\n",
      "Epoch [3/30] Batch 0/34                   Loss D: 0.0005, loss G: 7.5988\n",
      "Epoch [3/30] Batch 17/34                   Loss D: 0.0004, loss G: 7.8250\n",
      "Epoch [4/30] Batch 0/34                   Loss D: 0.0003, loss G: 8.0972\n",
      "Epoch [4/30] Batch 17/34                   Loss D: 0.6706, loss G: 0.7226\n",
      "Epoch [5/30] Batch 0/34                   Loss D: 0.6827, loss G: 0.7241\n",
      "Epoch [5/30] Batch 17/34                   Loss D: 0.6888, loss G: 0.7116\n",
      "Epoch [6/30] Batch 0/34                   Loss D: 0.6838, loss G: 0.7310\n",
      "Epoch [6/30] Batch 17/34                   Loss D: 0.6682, loss G: 0.8153\n",
      "Epoch [7/30] Batch 0/34                   Loss D: 0.6372, loss G: 1.0314\n",
      "Epoch [7/30] Batch 17/34                   Loss D: 0.7479, loss G: 0.8334\n",
      "Epoch [8/30] Batch 0/34                   Loss D: 0.6907, loss G: 0.6701\n",
      "Epoch [8/30] Batch 17/34                   Loss D: 0.2535, loss G: 1.9911\n",
      "Epoch [9/30] Batch 0/34                   Loss D: 0.1439, loss G: 2.4817\n",
      "Epoch [9/30] Batch 17/34                   Loss D: 0.2371, loss G: 2.6286\n",
      "Epoch [10/30] Batch 0/34                   Loss D: 0.7677, loss G: 3.0089\n",
      "Epoch [10/30] Batch 17/34                   Loss D: 0.6776, loss G: 1.2668\n",
      "Epoch [11/30] Batch 0/34                   Loss D: 0.2139, loss G: 3.0235\n",
      "Epoch [11/30] Batch 17/34                   Loss D: 0.1229, loss G: 2.1686\n",
      "Epoch [12/30] Batch 0/34                   Loss D: 0.2727, loss G: 1.7805\n",
      "Epoch [12/30] Batch 17/34                   Loss D: 0.0650, loss G: 2.1878\n",
      "Epoch [13/30] Batch 0/34                   Loss D: 0.6345, loss G: 1.7618\n",
      "Epoch [13/30] Batch 17/34                   Loss D: 0.1971, loss G: 1.9578\n",
      "Epoch [14/30] Batch 0/34                   Loss D: 0.0918, loss G: 3.1193\n",
      "Epoch [14/30] Batch 17/34                   Loss D: 0.3958, loss G: 2.3092\n",
      "Epoch [15/30] Batch 0/34                   Loss D: 0.4772, loss G: 1.8575\n",
      "Epoch [15/30] Batch 17/34                   Loss D: 0.4075, loss G: 4.4324\n",
      "Epoch [16/30] Batch 0/34                   Loss D: 0.1527, loss G: 2.4794\n",
      "Epoch [16/30] Batch 17/34                   Loss D: 0.3319, loss G: 2.2350\n",
      "Epoch [17/30] Batch 0/34                   Loss D: 0.0423, loss G: 3.3312\n",
      "Epoch [17/30] Batch 17/34                   Loss D: 0.3019, loss G: 3.3190\n",
      "Epoch [18/30] Batch 0/34                   Loss D: 0.0383, loss G: 4.0311\n",
      "Epoch [18/30] Batch 17/34                   Loss D: 0.0175, loss G: 4.2601\n",
      "Epoch [19/30] Batch 0/34                   Loss D: 0.0433, loss G: 4.9347\n",
      "Epoch [19/30] Batch 17/34                   Loss D: 0.6357, loss G: 2.8443\n",
      "Epoch [20/30] Batch 0/34                   Loss D: 0.4428, loss G: 2.0816\n",
      "Epoch [20/30] Batch 17/34                   Loss D: 0.0356, loss G: 3.7361\n",
      "Epoch [21/30] Batch 0/34                   Loss D: 0.3259, loss G: 5.2738\n",
      "Epoch [21/30] Batch 17/34                   Loss D: 0.0635, loss G: 5.6691\n",
      "Epoch [22/30] Batch 0/34                   Loss D: 0.0420, loss G: 3.6915\n",
      "Epoch [22/30] Batch 17/34                   Loss D: 0.0070, loss G: 5.2311\n",
      "Epoch [23/30] Batch 0/34                   Loss D: 0.0206, loss G: 4.1016\n",
      "Epoch [23/30] Batch 17/34                   Loss D: 0.0817, loss G: 3.9240\n",
      "Epoch [24/30] Batch 0/34                   Loss D: 0.5392, loss G: 1.9637\n"
     ]
    }
   ],
   "source": [
    "for epoch in range(NUM_EPOCHS):\n",
    "\n",
    "    for batch_idx, (real, _) in enumerate(train_loader):\n",
    "        real = real.to(device)\n",
    "        noise = torch.randn(BATCH_SIZE, Z_DIM, 1, 1).to(device)\n",
    "        fake = gen(noise)\n",
    "\n",
    "        ### Train Discriminator: max log(D(x)) + log(1 - D(G(z)))\n",
    "        disc_real = disc(real).reshape(-1)\n",
    "        loss_disc_real = criterion(disc_real, torch.ones_like(disc_real))\n",
    "        \n",
    "        disc_fake = disc(fake.detach()).reshape(-1)\n",
    "        loss_disc_fake = criterion(disc_fake, torch.zeros_like(disc_fake))\n",
    "        \n",
    "        loss_disc = (loss_disc_real + loss_disc_fake) / 2\n",
    "        disc.zero_grad()\n",
    "        loss_disc.backward()\n",
    "        opt_disc.step()\n",
    "\n",
    "        ### Train Generator: min log(1 - D(G(z))) <-> max log(D(G(z))\n",
    "        output = disc(fake).reshape(-1)\n",
    "        loss_gen = criterion(output, torch.ones_like(output))\n",
    "        gen.zero_grad()\n",
    "        loss_gen.backward()\n",
    "        opt_gen.step()\n",
    "\n",
    "        # Print losses occasionally and print to tensorboard\n",
    "        if batch_idx % 17 == 0:\n",
    "            print(\n",
    "                f\"Epoch [{epoch}/{NUM_EPOCHS}] Batch {batch_idx}/{len(train_loader)} \\\n",
    "                  Loss D: {loss_disc:.4f}, loss G: {loss_gen:.4f}\"\n",
    "            )\n",
    "\n",
    "            with torch.no_grad():\n",
    "                fake = gen(fixed_noise)\n",
    "                # take out (up to) 16 examples\n",
    "                img_grid_real = torchvision.utils.make_grid(real[:16], normalize=True)\n",
    "                img_grid_fake = torchvision.utils.make_grid(fake[:16], normalize=True)\n",
    "\n",
    "                writer_real.add_image(\"Real\", img_grid_real, global_step=step)\n",
    "                writer_fake.add_image(\"Fake\", img_grid_fake, global_step=step)\n",
    "\n",
    "            step += 1"
   ]
  },
  {
   "cell_type": "code",
   "execution_count": null,
   "id": "e915beac",
   "metadata": {},
   "outputs": [],
   "source": []
  },
  {
   "cell_type": "markdown",
   "id": "eb9447a6",
   "metadata": {},
   "source": [
    "https://github.com/Moeinh77/Simpson-face-generator-DCGAN-pytorch/blob/master/GAN%20pytorch.ipynb"
   ]
  }
 ],
 "metadata": {
  "kernelspec": {
   "display_name": "Python 3 (ipykernel)",
   "language": "python",
   "name": "python3"
  },
  "language_info": {
   "codemirror_mode": {
    "name": "ipython",
    "version": 3
   },
   "file_extension": ".py",
   "mimetype": "text/x-python",
   "name": "python",
   "nbconvert_exporter": "python",
   "pygments_lexer": "ipython3",
   "version": "3.11.5"
  }
 },
 "nbformat": 4,
 "nbformat_minor": 5
}
