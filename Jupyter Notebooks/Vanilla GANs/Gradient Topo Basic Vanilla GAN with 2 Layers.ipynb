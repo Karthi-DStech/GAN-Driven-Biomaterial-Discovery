{
 "cells": [
  {
   "cell_type": "code",
   "execution_count": 3,
   "id": "3f2b9430",
   "metadata": {},
   "outputs": [],
   "source": [
    "import torch\n",
    "import torch.nn as nn\n",
    "import torch.nn.functional as F\n",
    "\n",
    "from torch.utils.data import DataLoader\n",
    "from torchvision import transforms, datasets, models\n",
    "import torchvision\n",
    "\n",
    "import numpy as np\n",
    "import pandas as pd\n",
    "import matplotlib.pyplot as plt\n",
    "import seaborn as sns"
   ]
  },
  {
   "cell_type": "code",
   "execution_count": 4,
   "id": "79ae8b3f",
   "metadata": {},
   "outputs": [],
   "source": [
    "import os\n",
    "from PIL import Image\n",
    "from IPython.display import display\n",
    "\n",
    "import warnings\n",
    "warnings.filterwarnings('ignore')"
   ]
  },
  {
   "cell_type": "code",
   "execution_count": 5,
   "id": "a4ae51b8",
   "metadata": {},
   "outputs": [],
   "source": [
    "import torch.optim as optim"
   ]
  },
  {
   "cell_type": "code",
   "execution_count": null,
   "id": "b2b68d30",
   "metadata": {},
   "outputs": [],
   "source": []
  },
  {
   "cell_type": "code",
   "execution_count": 6,
   "id": "cd13d3eb",
   "metadata": {},
   "outputs": [],
   "source": [
    "image_path = '/Users/karthik/GANS/Rezied_GRADIENT_k7/Pattern_FeatureIdx_1003_TopoUnit_4X4.png'\n"
   ]
  },
  {
   "cell_type": "code",
   "execution_count": 7,
   "id": "794a53d4",
   "metadata": {},
   "outputs": [
    {
     "data": {
      "image/png": "[encoded data removed]",
      "text/plain": [
       "<PIL.PngImagePlugin.PngImageFile image mode=RGB size=224x224>"
      ]
     },
     "metadata": {},
     "output_type": "display_data"
    }
   ],
   "source": [
    "with Image.open(image_path) as img:\n",
    "    display(img)"
   ]
  },
  {
   "cell_type": "code",
   "execution_count": null,
   "id": "8486b665",
   "metadata": {},
   "outputs": [],
   "source": []
  },
  {
   "cell_type": "code",
   "execution_count": 8,
   "id": "f9ef7c55",
   "metadata": {},
   "outputs": [
    {
     "name": "stdout",
     "output_type": "stream",
     "text": [
      "Images:  2176\n"
     ]
    }
   ],
   "source": [
    "path = '/Users/karthik/GANS/Rezied_GRADIENT_k7/'\n",
    "\n",
    "img_names = []\n",
    "\n",
    "for folder, subfolders, filenames in os.walk(path):\n",
    "    for img in filenames:\n",
    "        img_names.append(folder+ '/' +img)\n",
    "        \n",
    "print('Images: ',len(img_names))"
   ]
  },
  {
   "cell_type": "code",
   "execution_count": null,
   "id": "2959444e",
   "metadata": {},
   "outputs": [],
   "source": []
  },
  {
   "cell_type": "code",
   "execution_count": 9,
   "id": "de75f69f",
   "metadata": {},
   "outputs": [],
   "source": [
    "img_sizes = []\n",
    "\n",
    "rejected = []\n",
    "\n",
    "for item in img_names:\n",
    "    try:\n",
    "        with Image.open(item) as img:\n",
    "            img_sizes.append(img.size)\n",
    "            \n",
    "    except:\n",
    "        rejected.append(item) "
   ]
  },
  {
   "cell_type": "code",
   "execution_count": null,
   "id": "2dbaf6bc",
   "metadata": {},
   "outputs": [],
   "source": []
  },
  {
   "cell_type": "code",
   "execution_count": 10,
   "id": "2c019940",
   "metadata": {},
   "outputs": [
    {
     "name": "stdout",
     "output_type": "stream",
     "text": [
      "2176\n"
     ]
    }
   ],
   "source": [
    "print(len(img_sizes))"
   ]
  },
  {
   "cell_type": "code",
   "execution_count": null,
   "id": "5a258728",
   "metadata": {},
   "outputs": [],
   "source": []
  },
  {
   "cell_type": "code",
   "execution_count": 11,
   "id": "9f863014",
   "metadata": {},
   "outputs": [],
   "source": [
    "df = pd.DataFrame(img_sizes)"
   ]
  },
  {
   "cell_type": "code",
   "execution_count": 12,
   "id": "5bbd0061",
   "metadata": {},
   "outputs": [
    {
     "data": {
      "text/html": [
       "<div>\n",
       "<style scoped>\n",
       "    .dataframe tbody tr th:only-of-type {\n",
       "        vertical-align: middle;\n",
       "    }\n",
       "\n",
       "    .dataframe tbody tr th {\n",
       "        vertical-align: top;\n",
       "    }\n",
       "\n",
       "    .dataframe thead th {\n",
       "        text-align: right;\n",
       "    }\n",
       "</style>\n",
       "<table border=\"1\" class=\"dataframe\">\n",
       "  <thead>\n",
       "    <tr style=\"text-align: right;\">\n",
       "      <th></th>\n",
       "      <th>0</th>\n",
       "      <th>1</th>\n",
       "    </tr>\n",
       "  </thead>\n",
       "  <tbody>\n",
       "    <tr>\n",
       "      <th>0</th>\n",
       "      <td>224</td>\n",
       "      <td>224</td>\n",
       "    </tr>\n",
       "    <tr>\n",
       "      <th>1</th>\n",
       "      <td>224</td>\n",
       "      <td>224</td>\n",
       "    </tr>\n",
       "    <tr>\n",
       "      <th>2</th>\n",
       "      <td>224</td>\n",
       "      <td>224</td>\n",
       "    </tr>\n",
       "    <tr>\n",
       "      <th>3</th>\n",
       "      <td>224</td>\n",
       "      <td>224</td>\n",
       "    </tr>\n",
       "    <tr>\n",
       "      <th>4</th>\n",
       "      <td>224</td>\n",
       "      <td>224</td>\n",
       "    </tr>\n",
       "  </tbody>\n",
       "</table>\n",
       "</div>"
      ],
      "text/plain": [
       "     0    1\n",
       "0  224  224\n",
       "1  224  224\n",
       "2  224  224\n",
       "3  224  224\n",
       "4  224  224"
      ]
     },
     "execution_count": 12,
     "metadata": {},
     "output_type": "execute_result"
    }
   ],
   "source": [
    "df.head()"
   ]
  },
  {
   "cell_type": "code",
   "execution_count": 13,
   "id": "1aa940eb",
   "metadata": {},
   "outputs": [
    {
     "data": {
      "text/html": [
       "<div>\n",
       "<style scoped>\n",
       "    .dataframe tbody tr th:only-of-type {\n",
       "        vertical-align: middle;\n",
       "    }\n",
       "\n",
       "    .dataframe tbody tr th {\n",
       "        vertical-align: top;\n",
       "    }\n",
       "\n",
       "    .dataframe thead th {\n",
       "        text-align: right;\n",
       "    }\n",
       "</style>\n",
       "<table border=\"1\" class=\"dataframe\">\n",
       "  <thead>\n",
       "    <tr style=\"text-align: right;\">\n",
       "      <th></th>\n",
       "      <th>0</th>\n",
       "      <th>1</th>\n",
       "    </tr>\n",
       "  </thead>\n",
       "  <tbody>\n",
       "    <tr>\n",
       "      <th>count</th>\n",
       "      <td>2176.0</td>\n",
       "      <td>2176.0</td>\n",
       "    </tr>\n",
       "    <tr>\n",
       "      <th>mean</th>\n",
       "      <td>224.0</td>\n",
       "      <td>224.0</td>\n",
       "    </tr>\n",
       "    <tr>\n",
       "      <th>std</th>\n",
       "      <td>0.0</td>\n",
       "      <td>0.0</td>\n",
       "    </tr>\n",
       "    <tr>\n",
       "      <th>min</th>\n",
       "      <td>224.0</td>\n",
       "      <td>224.0</td>\n",
       "    </tr>\n",
       "    <tr>\n",
       "      <th>25%</th>\n",
       "      <td>224.0</td>\n",
       "      <td>224.0</td>\n",
       "    </tr>\n",
       "    <tr>\n",
       "      <th>50%</th>\n",
       "      <td>224.0</td>\n",
       "      <td>224.0</td>\n",
       "    </tr>\n",
       "    <tr>\n",
       "      <th>75%</th>\n",
       "      <td>224.0</td>\n",
       "      <td>224.0</td>\n",
       "    </tr>\n",
       "    <tr>\n",
       "      <th>max</th>\n",
       "      <td>224.0</td>\n",
       "      <td>224.0</td>\n",
       "    </tr>\n",
       "  </tbody>\n",
       "</table>\n",
       "</div>"
      ],
      "text/plain": [
       "            0       1\n",
       "count  2176.0  2176.0\n",
       "mean    224.0   224.0\n",
       "std       0.0     0.0\n",
       "min     224.0   224.0\n",
       "25%     224.0   224.0\n",
       "50%     224.0   224.0\n",
       "75%     224.0   224.0\n",
       "max     224.0   224.0"
      ]
     },
     "execution_count": 13,
     "metadata": {},
     "output_type": "execute_result"
    }
   ],
   "source": [
    "df.describe()"
   ]
  },
  {
   "cell_type": "code",
   "execution_count": null,
   "id": "8c8e3e90",
   "metadata": {},
   "outputs": [],
   "source": []
  },
  {
   "cell_type": "code",
   "execution_count": null,
   "id": "694babd9",
   "metadata": {},
   "outputs": [],
   "source": []
  },
  {
   "cell_type": "markdown",
   "id": "f1d56a02",
   "metadata": {},
   "source": [
    "**Parameters**"
   ]
  },
  {
   "cell_type": "code",
   "execution_count": 14,
   "id": "c8e139a7",
   "metadata": {},
   "outputs": [],
   "source": [
    "device = \"cuda\" if torch.cuda.is_available() else \"cpu\"\n",
    "lr = 3e-4\n",
    "z_dim = 112\n",
    "image_dim = 224 * 224 * 1  # 50176, for grayscale images\n",
    "batch_size = 32\n",
    "num_epochs = 200"
   ]
  },
  {
   "cell_type": "code",
   "execution_count": null,
   "id": "85f37052",
   "metadata": {},
   "outputs": [],
   "source": []
  },
  {
   "cell_type": "code",
   "execution_count": 15,
   "id": "ad6e2c1e",
   "metadata": {},
   "outputs": [],
   "source": [
    "transforms = transforms.Compose(\n",
    "    [\n",
    "        transforms.Grayscale(num_output_channels=1),\n",
    "        transforms.ToTensor(),\n",
    "        transforms.Normalize((0.5,), (0.5,)),\n",
    "    ]\n",
    ")"
   ]
  },
  {
   "cell_type": "code",
   "execution_count": null,
   "id": "71e819c3",
   "metadata": {},
   "outputs": [],
   "source": []
  },
  {
   "cell_type": "code",
   "execution_count": 17,
   "id": "848947a6",
   "metadata": {},
   "outputs": [
    {
     "name": "stdout",
     "output_type": "stream",
     "text": [
      "True\n"
     ]
    }
   ],
   "source": [
    "torch.manual_seed(42)\n",
    "\n",
    "root = '/Users/karthik/GANS/Rezied_GRADIENT_k7/'\n",
    "print(os.path.exists(root))"
   ]
  },
  {
   "cell_type": "code",
   "execution_count": null,
   "id": "51d72863",
   "metadata": {},
   "outputs": [],
   "source": []
  },
  {
   "cell_type": "code",
   "execution_count": 18,
   "id": "719c214b",
   "metadata": {},
   "outputs": [],
   "source": [
    "import shutil\n",
    "\n",
    "class_dir = os.path.join(root, 'gradient_bio_materials')\n",
    "os.makedirs(class_dir, exist_ok=True)\n",
    "\n",
    "for entry in os.scandir(root):\n",
    "    if entry.is_file() and entry.name.endswith('.png'):  \n",
    "        shutil.move(entry.path, class_dir)\n",
    "\n",
    "\n",
    "train_data = datasets.ImageFolder(root, transform=transforms)\n",
    "train_loader = torch.utils.data.DataLoader(train_data, batch_size=batch_size, shuffle=True)"
   ]
  },
  {
   "cell_type": "code",
   "execution_count": null,
   "id": "ed4c7067",
   "metadata": {},
   "outputs": [],
   "source": []
  },
  {
   "cell_type": "code",
   "execution_count": 19,
   "id": "88185d30",
   "metadata": {},
   "outputs": [],
   "source": [
    "for images, labels in train_loader:\n",
    "    break"
   ]
  },
  {
   "cell_type": "code",
   "execution_count": 20,
   "id": "b1856efd",
   "metadata": {},
   "outputs": [
    {
     "data": {
      "text/plain": [
       "torch.Size([32, 1, 224, 224])"
      ]
     },
     "execution_count": 20,
     "metadata": {},
     "output_type": "execute_result"
    }
   ],
   "source": [
    "images.shape"
   ]
  },
  {
   "cell_type": "code",
   "execution_count": null,
   "id": "92cfa95a",
   "metadata": {},
   "outputs": [],
   "source": []
  },
  {
   "cell_type": "markdown",
   "id": "46179aed",
   "metadata": {},
   "source": [
    "**Constructing the Discriminator**"
   ]
  },
  {
   "cell_type": "code",
   "execution_count": 21,
   "id": "1741aa4a",
   "metadata": {},
   "outputs": [],
   "source": [
    "class Discriminator(nn.Module):\n",
    "    def __init__(self, in_features):\n",
    "        super().__init__()\n",
    "        self.disc = nn.Sequential(\n",
    "            nn.Linear(in_features, 128),\n",
    "            nn.LeakyReLU(0.01),\n",
    "            nn.Linear(128, 1),\n",
    "            nn.Sigmoid(),\n",
    "        )\n",
    "\n",
    "    def forward(self, x):\n",
    "        return self.disc(x)"
   ]
  },
  {
   "cell_type": "code",
   "execution_count": null,
   "id": "8cb847c1",
   "metadata": {},
   "outputs": [],
   "source": []
  },
  {
   "cell_type": "markdown",
   "id": "375bb9e3",
   "metadata": {},
   "source": [
    "**Contrusting the Generator**"
   ]
  },
  {
   "cell_type": "code",
   "execution_count": 22,
   "id": "066e152a",
   "metadata": {},
   "outputs": [],
   "source": [
    "class Generator(nn.Module):\n",
    "    def __init__(self, z_dim, img_dim):\n",
    "        super().__init__()\n",
    "        self.gen = nn.Sequential(\n",
    "            nn.Linear(z_dim, 256),\n",
    "            nn.LeakyReLU(0.01),\n",
    "            nn.Linear(256, img_dim),\n",
    "            nn.Tanh(), \n",
    "        )\n",
    "\n",
    "    def forward(self, x):\n",
    "        return self.gen(x)"
   ]
  },
  {
   "cell_type": "code",
   "execution_count": null,
   "id": "871a9883",
   "metadata": {},
   "outputs": [],
   "source": []
  },
  {
   "cell_type": "code",
   "execution_count": 23,
   "id": "ee65f974",
   "metadata": {},
   "outputs": [],
   "source": [
    "disc = Discriminator(image_dim).to(device)\n",
    "gen = Generator(z_dim, image_dim).to(device)\n",
    "fixed_noise = torch.randn((batch_size, z_dim)).to(device)"
   ]
  },
  {
   "cell_type": "code",
   "execution_count": 24,
   "id": "432c7af8",
   "metadata": {},
   "outputs": [],
   "source": [
    "opt_disc = optim.Adam(disc.parameters(), lr=lr)\n",
    "opt_gen = optim.Adam(gen.parameters(), lr=lr)\n",
    "criterion = nn.BCELoss()"
   ]
  },
  {
   "cell_type": "code",
   "execution_count": null,
   "id": "ba84e683",
   "metadata": {},
   "outputs": [],
   "source": []
  },
  {
   "cell_type": "code",
   "execution_count": 25,
   "id": "9d968a4a",
   "metadata": {},
   "outputs": [],
   "source": [
    "from torch.utils.tensorboard import SummaryWriter \n",
    "\n",
    "writer_fake = SummaryWriter(f\"logs/fake\")\n",
    "writer_real = SummaryWriter(f\"logs/real\")\n",
    "step = 0\n",
    "fixed_noise = torch.randn(16, z_dim).to(device)   # 32 -> 16"
   ]
  },
  {
   "cell_type": "code",
   "execution_count": 26,
   "id": "70702d63",
   "metadata": {},
   "outputs": [],
   "source": [
    "images_processed = 0"
   ]
  },
  {
   "cell_type": "code",
   "execution_count": 27,
   "id": "57ea2495",
   "metadata": {},
   "outputs": [
    {
     "name": "stdout",
     "output_type": "stream",
     "text": [
      "68\n"
     ]
    }
   ],
   "source": [
    "print(len(train_loader))"
   ]
  },
  {
   "cell_type": "code",
   "execution_count": null,
   "id": "58cdee30",
   "metadata": {},
   "outputs": [],
   "source": []
  },
  {
   "cell_type": "code",
   "execution_count": null,
   "id": "9c153426",
   "metadata": {},
   "outputs": [],
   "source": []
  },
  {
   "cell_type": "code",
   "execution_count": 28,
   "id": "34d56476",
   "metadata": {},
   "outputs": [
    {
     "name": "stdout",
     "output_type": "stream",
     "text": [
      "Epoch [0/200] Completed - Loss D: 0.0293, loss G: 5.2858\n",
      "Epoch [4/200] Completed - Loss D: 0.0007, loss G: 7.6177\n",
      "Epoch [9/200] Completed - Loss D: 0.0458, loss G: 2.6017\n",
      "Epoch [14/200] Completed - Loss D: 0.2802, loss G: 0.9120\n",
      "Epoch [19/200] Completed - Loss D: 0.3091, loss G: 0.8256\n",
      "Epoch [24/200] Completed - Loss D: 0.2666, loss G: 0.9692\n",
      "Epoch [29/200] Completed - Loss D: 0.3091, loss G: 1.2117\n",
      "Epoch [34/200] Completed - Loss D: 0.2390, loss G: 1.9647\n",
      "Epoch [39/200] Completed - Loss D: 0.1757, loss G: 1.0511\n",
      "Epoch [44/200] Completed - Loss D: 0.0643, loss G: 2.5173\n",
      "Epoch [49/200] Completed - Loss D: 0.5058, loss G: 0.7837\n",
      "Epoch [54/200] Completed - Loss D: 0.1491, loss G: 1.9620\n",
      "Epoch [59/200] Completed - Loss D: 0.1906, loss G: 2.0475\n",
      "Epoch [64/200] Completed - Loss D: 0.3020, loss G: 2.5446\n",
      "Epoch [69/200] Completed - Loss D: 0.3328, loss G: 2.8246\n",
      "Epoch [74/200] Completed - Loss D: 0.3922, loss G: 2.2502\n",
      "Epoch [79/200] Completed - Loss D: 0.1577, loss G: 2.0363\n",
      "Epoch [84/200] Completed - Loss D: 0.3249, loss G: 2.2236\n",
      "Epoch [89/200] Completed - Loss D: 0.7339, loss G: 0.9884\n",
      "Epoch [94/200] Completed - Loss D: 0.3508, loss G: 3.1892\n",
      "Epoch [99/200] Completed - Loss D: 0.4369, loss G: 4.3905\n",
      "Epoch [104/200] Completed - Loss D: 1.5099, loss G: 1.7941\n",
      "Epoch [109/200] Completed - Loss D: 1.0983, loss G: 1.7999\n",
      "Epoch [114/200] Completed - Loss D: 0.4939, loss G: 3.3573\n",
      "Epoch [119/200] Completed - Loss D: 2.6271, loss G: 0.8408\n",
      "Epoch [124/200] Completed - Loss D: 0.9045, loss G: 3.2214\n",
      "Epoch [129/200] Completed - Loss D: 0.6110, loss G: 3.0256\n",
      "Epoch [134/200] Completed - Loss D: 1.2923, loss G: 0.8949\n",
      "Epoch [139/200] Completed - Loss D: 0.4623, loss G: 4.7368\n",
      "Epoch [144/200] Completed - Loss D: 1.0049, loss G: 1.7957\n",
      "Epoch [149/200] Completed - Loss D: 0.5170, loss G: 3.0228\n",
      "Epoch [154/200] Completed - Loss D: 0.5221, loss G: 2.2530\n",
      "Epoch [159/200] Completed - Loss D: 1.9226, loss G: 1.2160\n",
      "Epoch [164/200] Completed - Loss D: 0.8126, loss G: 1.3740\n",
      "Epoch [169/200] Completed - Loss D: 0.9941, loss G: 1.2933\n",
      "Epoch [174/200] Completed - Loss D: 1.0331, loss G: 1.3279\n",
      "Epoch [179/200] Completed - Loss D: 1.0983, loss G: 1.4008\n",
      "Epoch [184/200] Completed - Loss D: 0.7026, loss G: 0.9248\n",
      "Epoch [189/200] Completed - Loss D: 0.3703, loss G: 2.5822\n",
      "Epoch [194/200] Completed - Loss D: 0.2881, loss G: 3.1050\n",
      "Epoch [199/200] Completed - Loss D: 0.4051, loss G: 3.1660\n"
     ]
    }
   ],
   "source": [
    "for epoch in range(num_epochs): \n",
    "    for batch_idx, (real, _) in enumerate(train_loader):\n",
    "        \n",
    "        real = real.view(-1, 50176).to(device)  # Flatten the images into vectors\n",
    "        batch_size = real.shape[0]\n",
    "\n",
    "        # Generate random noise as input for the generator\n",
    "        noise = torch.randn(batch_size, z_dim).to(device)\n",
    "        \n",
    "        # Generate fake images with the generator\n",
    "        fake = gen(noise)\n",
    "        \n",
    "        # Compute the discriminator losses on real images\n",
    "        disc_real = disc(real).view(-1)\n",
    "        lossD_real = criterion(disc_real, torch.ones_like(disc_real))\n",
    "        \n",
    "        # Compute the discriminator losses on fake images\n",
    "        disc_fake = disc(fake).view(-1)\n",
    "        lossD_fake = criterion(disc_fake, torch.zeros_like(disc_fake))\n",
    "        \n",
    "        # Combine losses for the discriminator\n",
    "        lossD = (lossD_real + lossD_fake) / 2\n",
    "        \n",
    "        # Update discriminator\n",
    "        disc.zero_grad()\n",
    "        lossD.backward(retain_graph=True)\n",
    "        opt_disc.step()\n",
    "\n",
    "        # Update generator\n",
    "        output = disc(fake).view(-1)\n",
    "        lossG = criterion(output, torch.ones_like(output))\n",
    "        gen.zero_grad()\n",
    "        lossG.backward()\n",
    "        opt_gen.step()\n",
    "\n",
    "\n",
    "\n",
    "    # After all batches are processed for the current epoch, check if it's time to print\n",
    "    if (epoch + 1) % 5 == 0 or epoch == 0:\n",
    "        with torch.no_grad():\n",
    "            fake = gen(fixed_noise).reshape(-1,1,224,224)\n",
    "            data = real.reshape(-1, 1, 224, 224)\n",
    "            \n",
    "            img_grid_real = torchvision.utils.make_grid(data[:16], normalize=True)\n",
    "            img_grid_fake = torchvision.utils.make_grid(fake[:16], normalize=True)\n",
    "\n",
    "            writer_real.add_image(\"Real\", img_grid_real, global_step=step)\n",
    "            writer_fake.add_image(\"Fake\", img_grid_fake, global_step=step)\n",
    "\n",
    "        # The print statement has been moved outside of the inner loop, and the condition is changed to every 5 epochs\n",
    "        print(f\"Epoch [{epoch}/{num_epochs}] Completed - Loss D: {lossD:.4f}, loss G: {lossG:.4f}\")\n",
    "\n",
    "    # Increment the step after each epoch\n",
    "    step += 1\n",
    "\n"
   ]
  },
  {
   "cell_type": "code",
   "execution_count": null,
   "id": "6bfc5201",
   "metadata": {},
   "outputs": [],
   "source": []
  }
 ],
 "metadata": {
  "kernelspec": {
   "display_name": "Python 3 (ipykernel)",
   "language": "python",
   "name": "python3"
  },
  "language_info": {
   "codemirror_mode": {
    "name": "ipython",
    "version": 3
   },
   "file_extension": ".py",
   "mimetype": "text/x-python",
   "name": "python",
   "nbconvert_exporter": "python",
   "pygments_lexer": "ipython3",
   "version": "3.11.5"
  }
 },
 "nbformat": 4,
 "nbformat_minor": 5
}
