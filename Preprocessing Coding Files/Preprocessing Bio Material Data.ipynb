{
 "cells": [
  {
   "cell_type": "code",
   "execution_count": 1,
   "id": "7d5dbd9f",
   "metadata": {},
   "outputs": [],
   "source": [
    "import torch\n",
    "import torch.nn as nn\n",
    "import torch.nn.functional as F\n",
    "\n",
    "from torch.utils.data import DataLoader\n",
    "from torchvision import transforms, datasets, models\n",
    "\n",
    "import numpy as np\n",
    "import pandas as pd\n",
    "import matplotlib.pyplot as plt\n",
    "import seaborn as sns"
   ]
  },
  {
   "cell_type": "code",
   "execution_count": null,
   "id": "998a84d4",
   "metadata": {},
   "outputs": [],
   "source": []
  },
  {
   "cell_type": "code",
   "execution_count": 2,
   "id": "e5d2bdd5",
   "metadata": {},
   "outputs": [],
   "source": [
    "import os\n",
    "from PIL import Image\n",
    "from IPython.display import display\n",
    "\n",
    "import warnings\n",
    "warnings.filterwarnings('ignore')"
   ]
  },
  {
   "cell_type": "code",
   "execution_count": null,
   "id": "cf9b513c",
   "metadata": {},
   "outputs": [],
   "source": []
  },
  {
   "cell_type": "code",
   "execution_count": 3,
   "id": "f42e6f3b",
   "metadata": {},
   "outputs": [
    {
     "data": {
      "image/png": "[encoded data removed]",
      "text/plain": [
       "<PIL.Image.Image image mode=L size=400x300>"
      ]
     },
     "metadata": {},
     "output_type": "display_data"
    }
   ],
   "source": [
    "image_path = '/Users/karthik/GANS/Bio-Material-DATA/Pattern_FeatureIdx_1012_TopoUnit_4X4.png'\n",
    "\n",
    "image = Image.open(image_path)\n",
    "\n",
    "# Set the desired display width and height in pixels\n",
    "display_width = 400\n",
    "display_height = 300\n",
    "\n",
    "# Display the image with the specified dimensions\n",
    "display(image.resize((display_width, display_height)))"
   ]
  },
  {
   "cell_type": "code",
   "execution_count": null,
   "id": "b3b69fb0",
   "metadata": {},
   "outputs": [],
   "source": []
  },
  {
   "cell_type": "code",
   "execution_count": 4,
   "id": "446c77b0",
   "metadata": {},
   "outputs": [
    {
     "data": {
      "text/plain": [
       "(1117, 1104)"
      ]
     },
     "execution_count": 4,
     "metadata": {},
     "output_type": "execute_result"
    }
   ],
   "source": [
    "image.size"
   ]
  },
  {
   "cell_type": "code",
   "execution_count": null,
   "id": "70f19442",
   "metadata": {},
   "outputs": [],
   "source": []
  },
  {
   "cell_type": "code",
   "execution_count": 5,
   "id": "1050e30f",
   "metadata": {},
   "outputs": [
    {
     "name": "stdout",
     "output_type": "stream",
     "text": [
      "Images:  2176\n"
     ]
    }
   ],
   "source": [
    "image_folder_path = '/Users/karthik/GANS/Bio-Material-DATA/'\n",
    "\n",
    "img_names = []\n",
    "\n",
    "for folder, subfolders, filenames in os.walk(image_folder_path):\n",
    "    for img in filenames:\n",
    "        img_names.append(folder+ '//' +img)\n",
    "        \n",
    "print('Images: ',len(img_names))"
   ]
  },
  {
   "cell_type": "code",
   "execution_count": null,
   "id": "57ecf7a5",
   "metadata": {},
   "outputs": [],
   "source": []
  },
  {
   "cell_type": "code",
   "execution_count": 6,
   "id": "51ba5d9d",
   "metadata": {},
   "outputs": [],
   "source": [
    "img_sizes = []\n",
    "\n",
    "rejected = []\n",
    "\n",
    "for item in img_names:\n",
    "    try:\n",
    "        with Image.open(item) as img:\n",
    "            img_sizes.append(img.size)\n",
    "        img.close()\n",
    "            \n",
    "    except:\n",
    "        rejected.append(item) "
   ]
  },
  {
   "cell_type": "code",
   "execution_count": null,
   "id": "6ff52569",
   "metadata": {},
   "outputs": [],
   "source": []
  },
  {
   "cell_type": "code",
   "execution_count": 7,
   "id": "7f3082dd",
   "metadata": {},
   "outputs": [
    {
     "name": "stdout",
     "output_type": "stream",
     "text": [
      "2176\n"
     ]
    }
   ],
   "source": [
    "print(len(img_sizes))"
   ]
  },
  {
   "cell_type": "code",
   "execution_count": null,
   "id": "d2653c10",
   "metadata": {},
   "outputs": [],
   "source": []
  },
  {
   "cell_type": "code",
   "execution_count": 8,
   "id": "6045f352",
   "metadata": {},
   "outputs": [],
   "source": [
    "bio_material_info = pd.DataFrame(img_sizes, columns=[\"Width\", \"Height\"])"
   ]
  },
  {
   "cell_type": "code",
   "execution_count": 9,
   "id": "5757522b",
   "metadata": {},
   "outputs": [
    {
     "data": {
      "text/html": [
       "<div>\n",
       "<style scoped>\n",
       "    .dataframe tbody tr th:only-of-type {\n",
       "        vertical-align: middle;\n",
       "    }\n",
       "\n",
       "    .dataframe tbody tr th {\n",
       "        vertical-align: top;\n",
       "    }\n",
       "\n",
       "    .dataframe thead th {\n",
       "        text-align: right;\n",
       "    }\n",
       "</style>\n",
       "<table border=\"1\" class=\"dataframe\">\n",
       "  <thead>\n",
       "    <tr style=\"text-align: right;\">\n",
       "      <th></th>\n",
       "      <th>Width</th>\n",
       "      <th>Height</th>\n",
       "    </tr>\n",
       "  </thead>\n",
       "  <tbody>\n",
       "    <tr>\n",
       "      <th>0</th>\n",
       "      <td>774</td>\n",
       "      <td>758</td>\n",
       "    </tr>\n",
       "    <tr>\n",
       "      <th>1</th>\n",
       "      <td>369</td>\n",
       "      <td>378</td>\n",
       "    </tr>\n",
       "    <tr>\n",
       "      <th>2</th>\n",
       "      <td>388</td>\n",
       "      <td>377</td>\n",
       "    </tr>\n",
       "    <tr>\n",
       "      <th>3</th>\n",
       "      <td>980</td>\n",
       "      <td>1072</td>\n",
       "    </tr>\n",
       "    <tr>\n",
       "      <th>4</th>\n",
       "      <td>766</td>\n",
       "      <td>768</td>\n",
       "    </tr>\n",
       "    <tr>\n",
       "      <th>...</th>\n",
       "      <td>...</td>\n",
       "      <td>...</td>\n",
       "    </tr>\n",
       "    <tr>\n",
       "      <th>2171</th>\n",
       "      <td>752</td>\n",
       "      <td>781</td>\n",
       "    </tr>\n",
       "    <tr>\n",
       "      <th>2172</th>\n",
       "      <td>706</td>\n",
       "      <td>753</td>\n",
       "    </tr>\n",
       "    <tr>\n",
       "      <th>2173</th>\n",
       "      <td>1089</td>\n",
       "      <td>1086</td>\n",
       "    </tr>\n",
       "    <tr>\n",
       "      <th>2174</th>\n",
       "      <td>388</td>\n",
       "      <td>373</td>\n",
       "    </tr>\n",
       "    <tr>\n",
       "      <th>2175</th>\n",
       "      <td>734</td>\n",
       "      <td>780</td>\n",
       "    </tr>\n",
       "  </tbody>\n",
       "</table>\n",
       "<p>2176 rows × 2 columns</p>\n",
       "</div>"
      ],
      "text/plain": [
       "      Width  Height\n",
       "0       774     758\n",
       "1       369     378\n",
       "2       388     377\n",
       "3       980    1072\n",
       "4       766     768\n",
       "...     ...     ...\n",
       "2171    752     781\n",
       "2172    706     753\n",
       "2173   1089    1086\n",
       "2174    388     373\n",
       "2175    734     780\n",
       "\n",
       "[2176 rows x 2 columns]"
      ]
     },
     "execution_count": 9,
     "metadata": {},
     "output_type": "execute_result"
    }
   ],
   "source": [
    "bio_material_info"
   ]
  },
  {
   "cell_type": "code",
   "execution_count": null,
   "id": "c5e92be8",
   "metadata": {},
   "outputs": [],
   "source": []
  },
  {
   "cell_type": "code",
   "execution_count": 10,
   "id": "30fc03d1",
   "metadata": {},
   "outputs": [
    {
     "name": "stdout",
     "output_type": "stream",
     "text": [
      "<class 'pandas.core.frame.DataFrame'>\n",
      "RangeIndex: 2176 entries, 0 to 2175\n",
      "Data columns (total 2 columns):\n",
      " #   Column  Non-Null Count  Dtype\n",
      "---  ------  --------------  -----\n",
      " 0   Width   2176 non-null   int64\n",
      " 1   Height  2176 non-null   int64\n",
      "dtypes: int64(2)\n",
      "memory usage: 34.1 KB\n"
     ]
    }
   ],
   "source": [
    "bio_material_info.info()"
   ]
  },
  {
   "cell_type": "code",
   "execution_count": null,
   "id": "3f85cb89",
   "metadata": {},
   "outputs": [],
   "source": []
  },
  {
   "cell_type": "code",
   "execution_count": 11,
   "id": "21b719a3",
   "metadata": {},
   "outputs": [
    {
     "data": {
      "text/html": [
       "<div>\n",
       "<style scoped>\n",
       "    .dataframe tbody tr th:only-of-type {\n",
       "        vertical-align: middle;\n",
       "    }\n",
       "\n",
       "    .dataframe tbody tr th {\n",
       "        vertical-align: top;\n",
       "    }\n",
       "\n",
       "    .dataframe thead th {\n",
       "        text-align: right;\n",
       "    }\n",
       "</style>\n",
       "<table border=\"1\" class=\"dataframe\">\n",
       "  <thead>\n",
       "    <tr style=\"text-align: right;\">\n",
       "      <th></th>\n",
       "      <th>Width</th>\n",
       "      <th>Height</th>\n",
       "    </tr>\n",
       "  </thead>\n",
       "  <tbody>\n",
       "    <tr>\n",
       "      <th>count</th>\n",
       "      <td>2176.000000</td>\n",
       "      <td>2176.000000</td>\n",
       "    </tr>\n",
       "    <tr>\n",
       "      <th>mean</th>\n",
       "      <td>731.680607</td>\n",
       "      <td>732.386029</td>\n",
       "    </tr>\n",
       "    <tr>\n",
       "      <th>std</th>\n",
       "      <td>284.901276</td>\n",
       "      <td>284.900187</td>\n",
       "    </tr>\n",
       "    <tr>\n",
       "      <th>min</th>\n",
       "      <td>333.000000</td>\n",
       "      <td>336.000000</td>\n",
       "    </tr>\n",
       "    <tr>\n",
       "      <th>25%</th>\n",
       "      <td>387.000000</td>\n",
       "      <td>387.000000</td>\n",
       "    </tr>\n",
       "    <tr>\n",
       "      <th>50%</th>\n",
       "      <td>770.000000</td>\n",
       "      <td>771.000000</td>\n",
       "    </tr>\n",
       "    <tr>\n",
       "      <th>75%</th>\n",
       "      <td>1055.000000</td>\n",
       "      <td>1056.000000</td>\n",
       "    </tr>\n",
       "    <tr>\n",
       "      <th>max</th>\n",
       "      <td>1119.000000</td>\n",
       "      <td>1120.000000</td>\n",
       "    </tr>\n",
       "  </tbody>\n",
       "</table>\n",
       "</div>"
      ],
      "text/plain": [
       "             Width       Height\n",
       "count  2176.000000  2176.000000\n",
       "mean    731.680607   732.386029\n",
       "std     284.901276   284.900187\n",
       "min     333.000000   336.000000\n",
       "25%     387.000000   387.000000\n",
       "50%     770.000000   771.000000\n",
       "75%    1055.000000  1056.000000\n",
       "max    1119.000000  1120.000000"
      ]
     },
     "execution_count": 11,
     "metadata": {},
     "output_type": "execute_result"
    }
   ],
   "source": [
    "bio_material_info.describe()"
   ]
  },
  {
   "cell_type": "code",
   "execution_count": null,
   "id": "3fab7197",
   "metadata": {},
   "outputs": [],
   "source": []
  },
  {
   "cell_type": "code",
   "execution_count": null,
   "id": "785eb15c",
   "metadata": {},
   "outputs": [],
   "source": []
  },
  {
   "cell_type": "code",
   "execution_count": 12,
   "id": "559baf00",
   "metadata": {},
   "outputs": [
    {
     "data": {
      "image/png": "[encoded data removed]",
      "text/plain": [
       "<Figure size 600x600 with 3 Axes>"
      ]
     },
     "metadata": {},
     "output_type": "display_data"
    }
   ],
   "source": [
    "sns.jointplot(x=bio_material_info['Width'], y=bio_material_info['Height'], kind='hex', \\\n",
    "              marginal_kws=dict(bins=25, fill=False) )\n",
    "plt.suptitle('Joint Distribution of Image Width and Height', y=1.02)\n",
    "plt.show()"
   ]
  },
  {
   "cell_type": "code",
   "execution_count": null,
   "id": "b1473174",
   "metadata": {},
   "outputs": [],
   "source": []
  },
  {
   "cell_type": "code",
   "execution_count": 13,
   "id": "16d73a30",
   "metadata": {},
   "outputs": [],
   "source": [
    "bio_material_info['Aspect Ratio'] = bio_material_info['Width'] / bio_material_info['Height']"
   ]
  },
  {
   "cell_type": "markdown",
   "id": "a992521b",
   "metadata": {},
   "source": [
    "sns.histplot(bio_material_info['Aspect Ratio'], kde=True)\n",
    "plt.title('Histogram of Image Aspect Ratios')"
   ]
  },
  {
   "cell_type": "code",
   "execution_count": 14,
   "id": "2004dbad",
   "metadata": {},
   "outputs": [],
   "source": [
    "import math"
   ]
  },
  {
   "cell_type": "code",
   "execution_count": 15,
   "id": "fa0b1e1d",
   "metadata": {},
   "outputs": [
    {
     "name": "stdout",
     "output_type": "stream",
     "text": [
      "      Width  Height Aspect Ratio\n",
      "0       774     758      387:379\n",
      "1       369     378        41:42\n",
      "2       388     377      388:377\n",
      "3       980    1072      245:268\n",
      "4       766     768      383:384\n",
      "...     ...     ...          ...\n",
      "2171    752     781      752:781\n",
      "2172    706     753      706:753\n",
      "2173   1089    1086      363:362\n",
      "2174    388     373      388:373\n",
      "2175    734     780      367:390\n",
      "\n",
      "[2176 rows x 3 columns]\n"
     ]
    }
   ],
   "source": [
    "def compute_aspect_ratio(row):\n",
    "    gcd_value = math.gcd(int(row['Width']), int(row['Height']))\n",
    "    return f\"{int(row['Width']) // gcd_value}:{int(row['Height']) // gcd_value}\"\n",
    "\n",
    "bio_material_info['Aspect Ratio'] = bio_material_info.apply(compute_aspect_ratio, axis=1)\n",
    "\n",
    "print(bio_material_info)"
   ]
  },
  {
   "cell_type": "code",
   "execution_count": null,
   "id": "093040ce",
   "metadata": {},
   "outputs": [],
   "source": []
  },
  {
   "cell_type": "code",
   "execution_count": null,
   "id": "bf0511b9",
   "metadata": {},
   "outputs": [],
   "source": []
  },
  {
   "cell_type": "code",
   "execution_count": 16,
   "id": "ff330118",
   "metadata": {},
   "outputs": [
    {
     "data": {
      "text/plain": [
       "293"
      ]
     },
     "execution_count": 16,
     "metadata": {},
     "output_type": "execute_result"
    }
   ],
   "source": [
    "len(bio_material_info['Height'].unique())"
   ]
  },
  {
   "cell_type": "code",
   "execution_count": 17,
   "id": "b1046d36",
   "metadata": {},
   "outputs": [
    {
     "data": {
      "text/plain": [
       "296"
      ]
     },
     "execution_count": 17,
     "metadata": {},
     "output_type": "execute_result"
    }
   ],
   "source": [
    "len(bio_material_info['Width'].unique())"
   ]
  },
  {
   "cell_type": "code",
   "execution_count": null,
   "id": "83024992",
   "metadata": {},
   "outputs": [],
   "source": []
  },
  {
   "cell_type": "markdown",
   "id": "3f5fc478",
   "metadata": {},
   "source": []
  },
  {
   "cell_type": "markdown",
   "id": "2fbe9c79",
   "metadata": {},
   "source": [
    "**IMAGE PREPROCESSING**"
   ]
  },
  {
   "cell_type": "code",
   "execution_count": 5,
   "id": "f9164db7",
   "metadata": {},
   "outputs": [
    {
     "data": {
      "image/png": "[encoded data removed]",
      "text/plain": [
       "<PIL.Image.Image image mode=L size=400x400>"
      ]
     },
     "metadata": {},
     "output_type": "display_data"
    }
   ],
   "source": [
    "display_width = 400\n",
    "display_height = 400\n",
    "\n",
    "# Display the image with the specified dimensions\n",
    "display(image.resize((display_width, display_height)))"
   ]
  },
  {
   "cell_type": "code",
   "execution_count": null,
   "id": "7e4bb0cd",
   "metadata": {},
   "outputs": [],
   "source": []
  },
  {
   "cell_type": "markdown",
   "id": "58a7eb57",
   "metadata": {},
   "source": [
    "Image Path = '/Users/karthik/GANS/Bio-Material-DATA/Pattern_FeatureIdx_1012_TopoUnit_4X4.png'"
   ]
  },
  {
   "cell_type": "code",
   "execution_count": null,
   "id": "79059992",
   "metadata": {},
   "outputs": [],
   "source": []
  },
  {
   "cell_type": "code",
   "execution_count": 6,
   "id": "5d5e8dc6",
   "metadata": {},
   "outputs": [],
   "source": [
    "import cv2"
   ]
  },
  {
   "cell_type": "code",
   "execution_count": 7,
   "id": "db5ede44",
   "metadata": {},
   "outputs": [],
   "source": [
    "image_path = '/Users/karthik/GANS/Bio-Material-DATA/Pattern_FeatureIdx_1012_TopoUnit_4X4.png'\n",
    "\n",
    "img = cv2.imread(image_path, cv2.IMREAD_GRAYSCALE)"
   ]
  },
  {
   "cell_type": "code",
   "execution_count": null,
   "id": "c9895622",
   "metadata": {},
   "outputs": [],
   "source": []
  },
  {
   "cell_type": "code",
   "execution_count": 8,
   "id": "caf0e164",
   "metadata": {},
   "outputs": [],
   "source": [
    "kernel = np.ones((7,7), np.uint8)"
   ]
  },
  {
   "cell_type": "code",
   "execution_count": null,
   "id": "ef20f29e",
   "metadata": {},
   "outputs": [],
   "source": []
  },
  {
   "cell_type": "code",
   "execution_count": 9,
   "id": "62c4e122",
   "metadata": {},
   "outputs": [],
   "source": [
    "# Erosion\n",
    "erosion = cv2.erode(img, kernel, iterations=1)"
   ]
  },
  {
   "cell_type": "code",
   "execution_count": 10,
   "id": "f1eeb37e",
   "metadata": {},
   "outputs": [
    {
     "data": {
      "text/plain": [
       "array([[0, 0, 0, ..., 0, 0, 0],\n",
       "       [0, 0, 0, ..., 0, 0, 0],\n",
       "       [0, 0, 0, ..., 0, 0, 0],\n",
       "       ...,\n",
       "       [0, 0, 0, ..., 0, 0, 0],\n",
       "       [0, 0, 0, ..., 0, 0, 0],\n",
       "       [0, 0, 0, ..., 0, 0, 0]], dtype=uint8)"
      ]
     },
     "execution_count": 10,
     "metadata": {},
     "output_type": "execute_result"
    }
   ],
   "source": [
    "erosion"
   ]
  },
  {
   "cell_type": "code",
   "execution_count": null,
   "id": "2f2d810b",
   "metadata": {},
   "outputs": [],
   "source": []
  },
  {
   "cell_type": "markdown",
   "id": "a11e9316",
   "metadata": {},
   "source": [
    "**Transforming an images into gradient**"
   ]
  },
  {
   "cell_type": "code",
   "execution_count": 11,
   "id": "5b8b2899",
   "metadata": {},
   "outputs": [],
   "source": [
    "gradient = cv2.morphologyEx(img, cv2.MORPH_GRADIENT, kernel)"
   ]
  },
  {
   "cell_type": "code",
   "execution_count": 12,
   "id": "c5bfd957",
   "metadata": {},
   "outputs": [
    {
     "data": {
      "image/png": "[encoded data removed]",
      "text/plain": [
       "<Figure size 640x480 with 1 Axes>"
      ]
     },
     "metadata": {},
     "output_type": "display_data"
    }
   ],
   "source": [
    "plt.imshow(gradient, cmap='gray')\n",
    "plt.title('Gradient Image')\n",
    "plt.axis('off')  # Hide axes for better visualization\n",
    "plt.show()"
   ]
  },
  {
   "cell_type": "code",
   "execution_count": 13,
   "id": "b140a8b8",
   "metadata": {},
   "outputs": [
    {
     "data": {
      "text/plain": [
       "True"
      ]
     },
     "execution_count": 13,
     "metadata": {},
     "output_type": "execute_result"
    }
   ],
   "source": [
    "output_filename = \"/Users/karthik/GANS/gradient_image.png\"\n",
    "cv2.imwrite(output_filename, gradient)"
   ]
  },
  {
   "cell_type": "code",
   "execution_count": 17,
   "id": "f1c2a63b",
   "metadata": {},
   "outputs": [],
   "source": [
    "import glob"
   ]
  },
  {
   "cell_type": "code",
   "execution_count": null,
   "id": "3f87f19c",
   "metadata": {},
   "outputs": [],
   "source": []
  },
  {
   "cell_type": "markdown",
   "id": "97e878d4",
   "metadata": {},
   "source": [
    "**Transforming all images into gradient**"
   ]
  },
  {
   "cell_type": "code",
   "execution_count": 14,
   "id": "26c8f12d",
   "metadata": {},
   "outputs": [],
   "source": [
    "input_path_g = '/Users/karthik/GANS/Bio-Material-DATA/'\n",
    "output_path_g = '/Users/karthik/GANS/Gradient_k7/'"
   ]
  },
  {
   "cell_type": "code",
   "execution_count": 15,
   "id": "cae181ad",
   "metadata": {},
   "outputs": [],
   "source": [
    "# Ensure the output directory exists or create it\n",
    "if not os.path.exists(output_path_g):\n",
    "    os.makedirs(output_path_g)"
   ]
  },
  {
   "cell_type": "code",
   "execution_count": 18,
   "id": "ccf6e8a6",
   "metadata": {},
   "outputs": [
    {
     "name": "stdout",
     "output_type": "stream",
     "text": [
      "Gradient operation applied and images saved!\n"
     ]
    }
   ],
   "source": [
    "# Iterate over all the image files in the input directory\n",
    "for image_file in glob.glob(os.path.join(input_path_g, '*.png')): \n",
    "    \n",
    "    # Assuming PNG format, adjust accordingly if different\n",
    "    # Read the image\n",
    "    \n",
    "    img = cv2.imread(image_file, cv2.IMREAD_GRAYSCALE)  \n",
    "    \n",
    "    # Apply the gradient operation\n",
    "    gradient_img = cv2.morphologyEx(img, cv2.MORPH_GRADIENT, kernel)\n",
    "    \n",
    "    # Construct the output file path and save the image\n",
    "    base_name = os.path.basename(image_file)\n",
    "    output_file_path = os.path.join(output_path_g, base_name)\n",
    "    cv2.imwrite(output_file_path, gradient_img)\n",
    "\n",
    "print(\"Gradient operation applied and images saved!\")"
   ]
  },
  {
   "cell_type": "code",
   "execution_count": null,
   "id": "8f615751",
   "metadata": {},
   "outputs": [],
   "source": []
  },
  {
   "cell_type": "code",
   "execution_count": null,
   "id": "54c4fee5",
   "metadata": {},
   "outputs": [],
   "source": []
  },
  {
   "cell_type": "markdown",
   "id": "83b160bf",
   "metadata": {},
   "source": [
    "**Resizing the gradient Image** "
   ]
  },
  {
   "cell_type": "code",
   "execution_count": 19,
   "id": "2af2481d",
   "metadata": {},
   "outputs": [],
   "source": [
    "image_path_g = \"/Users/karthik/GANS/Gradient_k7/Pattern_FeatureIdx_1001_TopoUnit_4X4.png\""
   ]
  },
  {
   "cell_type": "code",
   "execution_count": 20,
   "id": "2bb6e093",
   "metadata": {},
   "outputs": [],
   "source": [
    "img_g = cv2.imread(image_path_g, cv2.IMREAD_GRAYSCALE)"
   ]
  },
  {
   "cell_type": "code",
   "execution_count": 21,
   "id": "794af382",
   "metadata": {},
   "outputs": [],
   "source": [
    "# Resize the image to 224x224\n",
    "resized_img_g = cv2.resize(img_g, (224, 224), interpolation=cv2.INTER_AREA)"
   ]
  },
  {
   "cell_type": "code",
   "execution_count": 22,
   "id": "43b76dee",
   "metadata": {},
   "outputs": [
    {
     "data": {
      "text/plain": [
       "True"
      ]
     },
     "execution_count": 22,
     "metadata": {},
     "output_type": "execute_result"
    }
   ],
   "source": [
    "# If you want to save the resized image\n",
    "cv2.imwrite('resized_image_g.png', resized_img_g)"
   ]
  },
  {
   "cell_type": "code",
   "execution_count": null,
   "id": "12809403",
   "metadata": {},
   "outputs": [],
   "source": []
  },
  {
   "cell_type": "code",
   "execution_count": null,
   "id": "0aa0128b",
   "metadata": {},
   "outputs": [],
   "source": []
  },
  {
   "cell_type": "markdown",
   "id": "5af26e48",
   "metadata": {},
   "source": [
    "**Resizing all the gradient Image**"
   ]
  },
  {
   "cell_type": "code",
   "execution_count": 23,
   "id": "b633e5e6",
   "metadata": {},
   "outputs": [],
   "source": [
    "input_path_gr = '/Users/karthik/GANS/Gradient_k7/'\n",
    "output_path_gr = '/Users/karthik/GANS/Rezied_GRADIENT_k7/'"
   ]
  },
  {
   "cell_type": "code",
   "execution_count": 24,
   "id": "b88284db",
   "metadata": {},
   "outputs": [],
   "source": [
    "if not os.path.exists(output_path_gr):\n",
    "    os.makedirs(output_path_gr)"
   ]
  },
  {
   "cell_type": "code",
   "execution_count": null,
   "id": "495404c0",
   "metadata": {},
   "outputs": [],
   "source": [
    "# Iterate over all the image files in the input directory\n",
    "for image_file in glob.glob(os.path.join(input_path_gr, '*.png')):\n",
    "    # Assuming PNG format, change accordingly if different\n",
    "    # Read the image\n",
    "    img = cv2.imread(image_file)\n",
    "    \n",
    "    # Resize the image\n",
    "    resized_img = cv2.resize(img, (224, 224), interpolation=cv2.INTER_AREA)\n",
    "    \n",
    "    # Construct the output file path and save the image\n",
    "    base_name = os.path.basename(image_file)\n",
    "    output_file_path = os.path.join(output_path_gr, base_name)\n",
    "    cv2.imwrite(output_file_path, resized_img)\n",
    "\n",
    "print(\"Resizing complete!\")"
   ]
  },
  {
   "cell_type": "code",
   "execution_count": null,
   "id": "5abddb68",
   "metadata": {},
   "outputs": [],
   "source": []
  },
  {
   "cell_type": "code",
   "execution_count": null,
   "id": "a55660cf",
   "metadata": {},
   "outputs": [],
   "source": []
  },
  {
   "cell_type": "markdown",
   "id": "2783aa2e",
   "metadata": {},
   "source": [
    "**Cropping all the gradient image**"
   ]
  },
  {
   "cell_type": "code",
   "execution_count": 62,
   "id": "5ef4be24",
   "metadata": {},
   "outputs": [],
   "source": [
    "input_path_gc = '/Users/karthik/GANS/gradient_applied-Bio-Material-DATA/'\n",
    "output_path_gc = '/Users/karthik/GANS/Cropped-Gradient_Bio-Material-DATA/'"
   ]
  },
  {
   "cell_type": "code",
   "execution_count": 65,
   "id": "af1f1052",
   "metadata": {},
   "outputs": [],
   "source": [
    "if not os.path.exists(output_path_gc):\n",
    "    os.makedirs(output_path_gc)"
   ]
  },
  {
   "cell_type": "code",
   "execution_count": 66,
   "id": "a04078a3",
   "metadata": {},
   "outputs": [],
   "source": [
    "# Get all the PNG files from the input path\n",
    "image_files = glob.glob(input_path_gc + '*.png')\n",
    "\n",
    "for image_file in image_files:\n",
    "    # Read the image\n",
    "    img = cv2.imread(image_file, cv2.IMREAD_UNCHANGED)\n",
    "    \n",
    "    # Calculate the dimensions of a single pattern\n",
    "    pattern_width = img.shape[1] // 4\n",
    "    pattern_height = img.shape[0] // 4\n",
    "    \n",
    "    # Crop the top-left pattern\n",
    "    cropped_img = img[0:pattern_height, 0:pattern_width]\n",
    "    \n",
    "    # Save the cropped image to the output directory\n",
    "    output_file = os.path.join(output_path_gc, os.path.basename(image_file))\n",
    "    cv2.imwrite(output_file, cropped_img)"
   ]
  },
  {
   "cell_type": "code",
   "execution_count": null,
   "id": "04351d74",
   "metadata": {},
   "outputs": [],
   "source": []
  },
  {
   "cell_type": "code",
   "execution_count": null,
   "id": "b322723d",
   "metadata": {},
   "outputs": [],
   "source": []
  },
  {
   "cell_type": "code",
   "execution_count": null,
   "id": "d8e51a8d",
   "metadata": {},
   "outputs": [],
   "source": []
  },
  {
   "cell_type": "markdown",
   "id": "d65124a3",
   "metadata": {},
   "source": [
    "**Resizing a single actual image**"
   ]
  },
  {
   "cell_type": "code",
   "execution_count": 28,
   "id": "421deb44",
   "metadata": {},
   "outputs": [],
   "source": [
    "img = cv2.imread(image_path, cv2.IMREAD_GRAYSCALE)"
   ]
  },
  {
   "cell_type": "code",
   "execution_count": 29,
   "id": "3ded27f0",
   "metadata": {},
   "outputs": [],
   "source": [
    "# Resize the image to 224x224\n",
    "resized_img = cv2.resize(img, (224, 224), interpolation=cv2.INTER_AREA)"
   ]
  },
  {
   "cell_type": "code",
   "execution_count": 30,
   "id": "8eba4da7",
   "metadata": {},
   "outputs": [
    {
     "data": {
      "text/plain": [
       "True"
      ]
     },
     "execution_count": 30,
     "metadata": {},
     "output_type": "execute_result"
    }
   ],
   "source": [
    "# If you want to save the resized image\n",
    "cv2.imwrite('resized_image_path.png', resized_img)"
   ]
  },
  {
   "cell_type": "code",
   "execution_count": null,
   "id": "ce861743",
   "metadata": {},
   "outputs": [],
   "source": []
  },
  {
   "cell_type": "code",
   "execution_count": null,
   "id": "1378b259",
   "metadata": {},
   "outputs": [],
   "source": []
  },
  {
   "cell_type": "markdown",
   "id": "92f595c9",
   "metadata": {},
   "source": [
    "**Resizing all the actual image**"
   ]
  },
  {
   "cell_type": "code",
   "execution_count": 50,
   "id": "7e1b094e",
   "metadata": {},
   "outputs": [],
   "source": [
    "input_path_a = '/Users/karthik/GANS/Bio-Material-DATA/'\n",
    "output_path_a = '/Users/karthik/GANS/Rezied-224X224-Bio-Material-DATA/'"
   ]
  },
  {
   "cell_type": "code",
   "execution_count": 51,
   "id": "751b592c",
   "metadata": {},
   "outputs": [],
   "source": [
    "if not os.path.exists(output_path_a):\n",
    "    os.makedirs(output_path_a)"
   ]
  },
  {
   "cell_type": "code",
   "execution_count": 52,
   "id": "4bbd3049",
   "metadata": {},
   "outputs": [
    {
     "name": "stdout",
     "output_type": "stream",
     "text": [
      "Resizing complete!\n"
     ]
    }
   ],
   "source": [
    "# Iterate over all the image files in the input directory\n",
    "for image_file in glob.glob(os.path.join(input_path_a, '*.png')):\n",
    "    # Assuming PNG format, change accordingly if different\n",
    "    # Read the image\n",
    "    img = cv2.imread(image_file)\n",
    "    \n",
    "    # Resize the image\n",
    "    resized_img = cv2.resize(img, (224, 224), interpolation=cv2.INTER_AREA)\n",
    "    \n",
    "    # Construct the output file path and save the image\n",
    "    base_name = os.path.basename(image_file)\n",
    "    output_file_path = os.path.join(output_path_a, base_name)\n",
    "    cv2.imwrite(output_file_path, resized_img)\n",
    "\n",
    "print(\"Resizing complete!\")"
   ]
  },
  {
   "cell_type": "code",
   "execution_count": null,
   "id": "674803d6",
   "metadata": {},
   "outputs": [],
   "source": []
  },
  {
   "cell_type": "code",
   "execution_count": null,
   "id": "a365986f",
   "metadata": {},
   "outputs": [],
   "source": []
  },
  {
   "cell_type": "code",
   "execution_count": null,
   "id": "e21f3159",
   "metadata": {},
   "outputs": [],
   "source": []
  },
  {
   "cell_type": "markdown",
   "id": "169d6ec5",
   "metadata": {},
   "source": [
    "**Calculation and Cropping a single Image**"
   ]
  },
  {
   "cell_type": "code",
   "execution_count": 33,
   "id": "71b4e0fc",
   "metadata": {},
   "outputs": [],
   "source": [
    "img = cv2.imread(image_path)"
   ]
  },
  {
   "cell_type": "code",
   "execution_count": 34,
   "id": "36840d39",
   "metadata": {},
   "outputs": [],
   "source": [
    "# Calculate the dimensions of a single pattern (assuming a 4x4 repetition)\n",
    "pattern_width = img.shape[1] // 4\n",
    "pattern_height = img.shape[0] // 4"
   ]
  },
  {
   "cell_type": "code",
   "execution_count": 35,
   "id": "b5c4490b",
   "metadata": {},
   "outputs": [],
   "source": [
    "# Crop the top-left pattern\n",
    "cropped_img = img[0:pattern_height, 0:pattern_width]"
   ]
  },
  {
   "cell_type": "code",
   "execution_count": 36,
   "id": "e3e450b1",
   "metadata": {},
   "outputs": [
    {
     "data": {
      "text/plain": [
       "True"
      ]
     },
     "execution_count": 36,
     "metadata": {},
     "output_type": "execute_result"
    }
   ],
   "source": [
    "cv2.imwrite('cropped_image.png', cropped_img)"
   ]
  },
  {
   "cell_type": "code",
   "execution_count": null,
   "id": "5664b62d",
   "metadata": {},
   "outputs": [],
   "source": []
  },
  {
   "cell_type": "code",
   "execution_count": null,
   "id": "2d579445",
   "metadata": {},
   "outputs": [],
   "source": []
  },
  {
   "cell_type": "code",
   "execution_count": null,
   "id": "0b1d1a2f",
   "metadata": {},
   "outputs": [],
   "source": []
  },
  {
   "cell_type": "markdown",
   "id": "63888e33",
   "metadata": {},
   "source": [
    "**Cropping all the images**"
   ]
  },
  {
   "cell_type": "markdown",
   "id": "061a1d1c",
   "metadata": {},
   "source": [
    "Defining the path"
   ]
  },
  {
   "cell_type": "code",
   "execution_count": 41,
   "id": "f41cdd53",
   "metadata": {},
   "outputs": [],
   "source": [
    "input_path = '/Users/karthik/GANS/Bio-Material-DATA/'\n",
    "output_path = '/Users/karthik/GANS/Cropped-Bio-Material-DATA/'"
   ]
  },
  {
   "cell_type": "markdown",
   "id": "4a034665",
   "metadata": {},
   "source": [
    "Creating Output Directory if doesn't exist"
   ]
  },
  {
   "cell_type": "code",
   "execution_count": 42,
   "id": "932a0101",
   "metadata": {},
   "outputs": [],
   "source": [
    "if not os.path.exists(output_path):\n",
    "    os.makedirs(output_path)"
   ]
  },
  {
   "cell_type": "markdown",
   "id": "92281f48",
   "metadata": {},
   "source": [
    "Cropping Image"
   ]
  },
  {
   "cell_type": "code",
   "execution_count": 43,
   "id": "04e66395",
   "metadata": {},
   "outputs": [],
   "source": [
    "# Get all the PNG files from the input path\n",
    "image_files = glob.glob(input_path + '*.png')\n",
    "\n",
    "for image_file in image_files:\n",
    "    # Read the image\n",
    "    img = cv2.imread(image_file, cv2.IMREAD_UNCHANGED)\n",
    "    \n",
    "    # Calculate the dimensions of a single pattern\n",
    "    pattern_width = img.shape[1] // 4\n",
    "    pattern_height = img.shape[0] // 4\n",
    "    \n",
    "    # Crop the top-left pattern\n",
    "    cropped_img = img[0:pattern_height, 0:pattern_width]\n",
    "    \n",
    "    # Save the cropped image to the output directory\n",
    "    output_file = os.path.join(output_path, os.path.basename(image_file))\n",
    "    cv2.imwrite(output_file, cropped_img)\n"
   ]
  },
  {
   "cell_type": "code",
   "execution_count": null,
   "id": "37bcf867",
   "metadata": {},
   "outputs": [],
   "source": []
  },
  {
   "cell_type": "code",
   "execution_count": null,
   "id": "feaa6d1b",
   "metadata": {},
   "outputs": [],
   "source": []
  },
  {
   "cell_type": "markdown",
   "id": "0d2bc69d",
   "metadata": {},
   "source": [
    "**ANALYSING THE DATA**"
   ]
  },
  {
   "cell_type": "code",
   "execution_count": 69,
   "id": "323b94c8",
   "metadata": {},
   "outputs": [
    {
     "data": {
      "image/png": "[encoded data removed]",
      "text/plain": [
       "<PIL.Image.Image image mode=L size=300x300>"
      ]
     },
     "metadata": {},
     "output_type": "display_data"
    }
   ],
   "source": [
    "re_image_path = '/Users/karthik/GANS/Cropped-Bio_Materials/Cropped-Bio-Material-DATA/Pattern_FeatureIdx_1021_TopoUnit_4X4.png'\n",
    "\n",
    "image = Image.open(re_image_path)\n",
    "\n",
    "# Set the desired display width and height in pixels\n",
    "display_width = 300\n",
    "display_height = 300\n",
    "\n",
    "# Display the image with the specified dimensions\n",
    "display(image.resize((display_width, display_height)))"
   ]
  },
  {
   "cell_type": "code",
   "execution_count": null,
   "id": "98ae9c58",
   "metadata": {},
   "outputs": [],
   "source": []
  },
  {
   "cell_type": "code",
   "execution_count": null,
   "id": "4cec3923",
   "metadata": {},
   "outputs": [],
   "source": []
  },
  {
   "cell_type": "code",
   "execution_count": null,
   "id": "d54ea0b8",
   "metadata": {},
   "outputs": [],
   "source": []
  },
  {
   "cell_type": "code",
   "execution_count": 70,
   "id": "da43768d",
   "metadata": {},
   "outputs": [
    {
     "name": "stdout",
     "output_type": "stream",
     "text": [
      "Images:  2176\n"
     ]
    }
   ],
   "source": [
    "image_folder_path = '/Users/karthik/GANS/Cropped-Bio_Materials/Cropped-Bio-Material-DATA/'\n",
    "\n",
    "re_img_names = []\n",
    "\n",
    "for folder, subfolders, filenames in os.walk(image_folder_path):\n",
    "    for img in filenames:\n",
    "        re_img_names.append(folder+ '//' +img)\n",
    "        \n",
    "print('Images: ',len(re_img_names))"
   ]
  },
  {
   "cell_type": "code",
   "execution_count": null,
   "id": "a1b27fcd",
   "metadata": {},
   "outputs": [],
   "source": []
  },
  {
   "cell_type": "code",
   "execution_count": 71,
   "id": "0b382ffd",
   "metadata": {},
   "outputs": [],
   "source": [
    "re_img_sizes = []\n",
    "\n",
    "rejected = []\n",
    "\n",
    "for item in re_img_names:\n",
    "    try:\n",
    "        with Image.open(item) as img:\n",
    "            re_img_sizes.append(img.size)\n",
    "        img.close()\n",
    "            \n",
    "    except:\n",
    "        rejected.append(item) "
   ]
  },
  {
   "cell_type": "code",
   "execution_count": null,
   "id": "da24ba6a",
   "metadata": {},
   "outputs": [],
   "source": []
  },
  {
   "cell_type": "code",
   "execution_count": 72,
   "id": "ba68132f",
   "metadata": {},
   "outputs": [],
   "source": [
    "re_bio_material_info = pd.DataFrame(re_img_sizes, columns=[\"Width\", \"Height\"])"
   ]
  },
  {
   "cell_type": "code",
   "execution_count": 73,
   "id": "194bd8d2",
   "metadata": {},
   "outputs": [
    {
     "data": {
      "text/html": [
       "<div>\n",
       "<style scoped>\n",
       "    .dataframe tbody tr th:only-of-type {\n",
       "        vertical-align: middle;\n",
       "    }\n",
       "\n",
       "    .dataframe tbody tr th {\n",
       "        vertical-align: top;\n",
       "    }\n",
       "\n",
       "    .dataframe thead th {\n",
       "        text-align: right;\n",
       "    }\n",
       "</style>\n",
       "<table border=\"1\" class=\"dataframe\">\n",
       "  <thead>\n",
       "    <tr style=\"text-align: right;\">\n",
       "      <th></th>\n",
       "      <th>Width</th>\n",
       "      <th>Height</th>\n",
       "    </tr>\n",
       "  </thead>\n",
       "  <tbody>\n",
       "    <tr>\n",
       "      <th>0</th>\n",
       "      <td>193</td>\n",
       "      <td>189</td>\n",
       "    </tr>\n",
       "    <tr>\n",
       "      <th>1</th>\n",
       "      <td>92</td>\n",
       "      <td>94</td>\n",
       "    </tr>\n",
       "    <tr>\n",
       "      <th>2</th>\n",
       "      <td>97</td>\n",
       "      <td>94</td>\n",
       "    </tr>\n",
       "    <tr>\n",
       "      <th>3</th>\n",
       "      <td>245</td>\n",
       "      <td>268</td>\n",
       "    </tr>\n",
       "    <tr>\n",
       "      <th>4</th>\n",
       "      <td>191</td>\n",
       "      <td>192</td>\n",
       "    </tr>\n",
       "  </tbody>\n",
       "</table>\n",
       "</div>"
      ],
      "text/plain": [
       "   Width  Height\n",
       "0    193     189\n",
       "1     92      94\n",
       "2     97      94\n",
       "3    245     268\n",
       "4    191     192"
      ]
     },
     "execution_count": 73,
     "metadata": {},
     "output_type": "execute_result"
    }
   ],
   "source": [
    "re_bio_material_info.head()"
   ]
  },
  {
   "cell_type": "code",
   "execution_count": 75,
   "id": "a5081da7",
   "metadata": {},
   "outputs": [
    {
     "name": "stdout",
     "output_type": "stream",
     "text": [
      "<class 'pandas.core.frame.DataFrame'>\n",
      "RangeIndex: 2176 entries, 0 to 2175\n",
      "Data columns (total 2 columns):\n",
      " #   Column  Non-Null Count  Dtype\n",
      "---  ------  --------------  -----\n",
      " 0   Width   2176 non-null   int64\n",
      " 1   Height  2176 non-null   int64\n",
      "dtypes: int64(2)\n",
      "memory usage: 34.1 KB\n"
     ]
    }
   ],
   "source": [
    "re_bio_material_info.info()"
   ]
  },
  {
   "cell_type": "code",
   "execution_count": null,
   "id": "f29b2fbd",
   "metadata": {},
   "outputs": [],
   "source": []
  },
  {
   "cell_type": "code",
   "execution_count": 76,
   "id": "4317bc13",
   "metadata": {},
   "outputs": [
    {
     "data": {
      "text/html": [
       "<div>\n",
       "<style scoped>\n",
       "    .dataframe tbody tr th:only-of-type {\n",
       "        vertical-align: middle;\n",
       "    }\n",
       "\n",
       "    .dataframe tbody tr th {\n",
       "        vertical-align: top;\n",
       "    }\n",
       "\n",
       "    .dataframe thead th {\n",
       "        text-align: right;\n",
       "    }\n",
       "</style>\n",
       "<table border=\"1\" class=\"dataframe\">\n",
       "  <thead>\n",
       "    <tr style=\"text-align: right;\">\n",
       "      <th></th>\n",
       "      <th>Width</th>\n",
       "      <th>Height</th>\n",
       "    </tr>\n",
       "  </thead>\n",
       "  <tbody>\n",
       "    <tr>\n",
       "      <th>count</th>\n",
       "      <td>2176.000000</td>\n",
       "      <td>2176.000000</td>\n",
       "    </tr>\n",
       "    <tr>\n",
       "      <th>mean</th>\n",
       "      <td>182.545496</td>\n",
       "      <td>182.727482</td>\n",
       "    </tr>\n",
       "    <tr>\n",
       "      <th>std</th>\n",
       "      <td>71.226017</td>\n",
       "      <td>71.226281</td>\n",
       "    </tr>\n",
       "    <tr>\n",
       "      <th>min</th>\n",
       "      <td>83.000000</td>\n",
       "      <td>84.000000</td>\n",
       "    </tr>\n",
       "    <tr>\n",
       "      <th>25%</th>\n",
       "      <td>96.000000</td>\n",
       "      <td>96.000000</td>\n",
       "    </tr>\n",
       "    <tr>\n",
       "      <th>50%</th>\n",
       "      <td>192.000000</td>\n",
       "      <td>192.000000</td>\n",
       "    </tr>\n",
       "    <tr>\n",
       "      <th>75%</th>\n",
       "      <td>263.000000</td>\n",
       "      <td>264.000000</td>\n",
       "    </tr>\n",
       "    <tr>\n",
       "      <th>max</th>\n",
       "      <td>279.000000</td>\n",
       "      <td>280.000000</td>\n",
       "    </tr>\n",
       "  </tbody>\n",
       "</table>\n",
       "</div>"
      ],
      "text/plain": [
       "             Width       Height\n",
       "count  2176.000000  2176.000000\n",
       "mean    182.545496   182.727482\n",
       "std      71.226017    71.226281\n",
       "min      83.000000    84.000000\n",
       "25%      96.000000    96.000000\n",
       "50%     192.000000   192.000000\n",
       "75%     263.000000   264.000000\n",
       "max     279.000000   280.000000"
      ]
     },
     "execution_count": 76,
     "metadata": {},
     "output_type": "execute_result"
    }
   ],
   "source": [
    "re_bio_material_info.describe()"
   ]
  },
  {
   "cell_type": "code",
   "execution_count": 77,
   "id": "95c413bf",
   "metadata": {},
   "outputs": [
    {
     "data": {
      "text/plain": [
       "array([193,  92,  97, 245, 191, 197, 185,  96, 256, 188, 275, 270, 277,\n",
       "       172, 195, 189, 278, 198, 276, 252, 251, 274,  98,  89,  93,  95,\n",
       "        90, 181, 273, 246, 190, 255, 196,  94, 269, 194, 279, 249, 183,\n",
       "        91, 271,  88,  87, 272, 199, 187,  86, 175, 257, 186, 177, 265,\n",
       "       268, 235, 176, 260, 266,  99, 267, 180, 184, 192, 264, 182, 168,\n",
       "       173, 259, 261, 263, 170, 247, 242, 262, 178, 250, 174, 179, 253,\n",
       "       254, 258, 228, 200, 241,  85, 240,  83, 236, 244, 243, 171])"
      ]
     },
     "execution_count": 77,
     "metadata": {},
     "output_type": "execute_result"
    }
   ],
   "source": [
    "re_bio_material_info['Width'].unique()"
   ]
  },
  {
   "cell_type": "code",
   "execution_count": 79,
   "id": "4b528fd3",
   "metadata": {},
   "outputs": [
    {
     "data": {
      "text/plain": [
       "array([189,  94, 268, 192, 196, 194,  95, 273, 182, 198, 195, 275, 264,\n",
       "       278, 169, 187, 276, 269, 272, 261, 279,  99,  90,  96, 186,  97,\n",
       "       277,  88,  89, 197, 248,  93,  98,  91, 184, 270, 274, 266, 185,\n",
       "       271, 260, 191,  92, 179, 188, 245, 262, 199, 265, 255, 173,  84,\n",
       "       193, 263, 190, 254,  87, 252, 183, 267, 256, 257,  85, 247, 175,\n",
       "       258, 162, 259, 240, 249, 181, 177, 253, 178, 180, 160, 176, 174,\n",
       "       251, 235, 165, 168, 100, 170,  86, 280, 172, 244, 171, 200, 237,\n",
       "       230, 246, 243])"
      ]
     },
     "execution_count": 79,
     "metadata": {},
     "output_type": "execute_result"
    }
   ],
   "source": [
    "re_bio_material_info['Height'].unique()"
   ]
  },
  {
   "cell_type": "code",
   "execution_count": null,
   "id": "b345062e",
   "metadata": {},
   "outputs": [],
   "source": []
  },
  {
   "cell_type": "code",
   "execution_count": null,
   "id": "abdae18e",
   "metadata": {},
   "outputs": [],
   "source": []
  },
  {
   "cell_type": "code",
   "execution_count": null,
   "id": "22dc2c0c",
   "metadata": {},
   "outputs": [],
   "source": []
  },
  {
   "cell_type": "code",
   "execution_count": null,
   "id": "b51cfdea",
   "metadata": {},
   "outputs": [],
   "source": []
  },
  {
   "cell_type": "markdown",
   "id": "b5e91db3",
   "metadata": {},
   "source": [
    "**Separating the images according to the pixel size**"
   ]
  },
  {
   "cell_type": "code",
   "execution_count": 85,
   "id": "5240be53",
   "metadata": {},
   "outputs": [
    {
     "name": "stdout",
     "output_type": "stream",
     "text": [
      "Images have been sorted.\n"
     ]
    }
   ],
   "source": [
    "# Path where the images are stored\n",
    "image_folder_path = '/Users/karthik/GANS/Cropped-Bio_Materials/Cropped-Bio-Material-DATA/'\n",
    "\n",
    "# Create two folders if they don't exist\n",
    "below_130_path = os.path.join(image_folder_path, 'Below_130')\n",
    "above_or_equal_130_path = os.path.join(image_folder_path, 'Above_or_Equal_130')\n",
    "\n",
    "if not os.path.exists(below_130_path):\n",
    "    os.makedirs(below_130_path)\n",
    "\n",
    "if not os.path.exists(above_or_equal_130_path):\n",
    "    os.makedirs(above_or_equal_130_path)\n",
    "\n",
    "# Go through each image in the folder\n",
    "for img_file in os.listdir(image_folder_path):\n",
    "    file_path = os.path.join(image_folder_path, img_file)\n",
    "\n",
    "    # Check if the path points to a file (and not a directory)\n",
    "    if os.path.isfile(file_path):\n",
    "\n",
    "        # Read the image\n",
    "        img = cv2.imread(file_path, cv2.IMREAD_GRAYSCALE) # Assuming grayscale images for simplicity\n",
    "        \n",
    "        # Check if image loading was successful\n",
    "        if img is not None:\n",
    "            avg_pixel_value = np.mean(img)\n",
    "\n",
    "            # Move the file based on the average pixel value\n",
    "            if avg_pixel_value < 130:\n",
    "                os.rename(file_path, os.path.join(below_130_path, img_file))\n",
    "            else:\n",
    "                os.rename(file_path, os.path.join(above_or_equal_130_path, img_file))\n",
    "\n",
    "print(\"Images have been sorted.\")\n"
   ]
  },
  {
   "cell_type": "code",
   "execution_count": null,
   "id": "5794e995",
   "metadata": {},
   "outputs": [],
   "source": []
  },
  {
   "cell_type": "code",
   "execution_count": null,
   "id": "88040304",
   "metadata": {},
   "outputs": [],
   "source": [
    "image_folder_path_g2 = '/Users/karthik/GANS/Bio-Material-DATA/'"
   ]
  },
  {
   "cell_type": "code",
   "execution_count": null,
   "id": "633175c1",
   "metadata": {},
   "outputs": [],
   "source": []
  },
  {
   "cell_type": "markdown",
   "id": "4a53244a",
   "metadata": {},
   "source": [
    "**Processing the image for avoiding overlapping and applying gradient**"
   ]
  },
  {
   "cell_type": "code",
   "execution_count": 88,
   "id": "fd94c38f",
   "metadata": {},
   "outputs": [],
   "source": [
    "\n",
    "def enlarge_image(img, factor=2):\n",
    "\n",
    "    return np.tile(img, (factor, factor))\n",
    "\n",
    "def crop_center(img, target_height, target_width):\n",
    "\n",
    "    y, x = img.shape\n",
    "    start_x = x//2 - target_width//2\n",
    "    start_y = y//2 - target_height//2\n",
    "    return img[start_y:start_y+target_height, start_x:start_x+target_width]\n",
    "\n",
    "image_folder_path_g2 = '/Users/karthik/GANS/Bio-Material-DATA/'\n",
    "kernel = np.ones((3, 3), np.uint8)  # Example kernel. You can adjust its size and shape.\n",
    "\n",
    "# Create the output folder if it doesn't exist\n",
    "output_folder = os.path.join(image_folder_path_g2, \"gradient_images2\")\n",
    "if not os.path.exists(output_folder):\n",
    "    os.makedirs(output_folder)\n",
    "\n",
    "for image_name in os.listdir(image_folder_path_g2):\n",
    "    image_path = os.path.join(image_folder_path_g2, image_name)\n",
    "    img = cv2.imread(image_path, cv2.IMREAD_GRAYSCALE)  # Read image in grayscale\n",
    "\n",
    "    # Check if the file is an image\n",
    "    if img is None:\n",
    "        continue\n",
    "\n",
    "    # 1. Enlarge\n",
    "    enlarged_img = enlarge_image(img)\n",
    "\n",
    "    # 2. Compute the Gradient on enlarged image\n",
    "    gradient_img_large = cv2.morphologyEx(enlarged_img, cv2.MORPH_GRADIENT, kernel)\n",
    "\n",
    "    # 3. Crop back to the original size\n",
    "    gradient_img = crop_center(gradient_img_large, img.shape[0], img.shape[1])\n",
    "\n",
    "    # 4. Save\n",
    "    output_path = os.path.join(output_folder, \"gradient_\" + image_name)\n",
    "    cv2.imwrite(output_path, gradient_img)\n"
   ]
  },
  {
   "cell_type": "code",
   "execution_count": null,
   "id": "b7f3dcd9",
   "metadata": {},
   "outputs": [],
   "source": []
  },
  {
   "cell_type": "code",
   "execution_count": null,
   "id": "b087c381",
   "metadata": {},
   "outputs": [],
   "source": []
  },
  {
   "cell_type": "code",
   "execution_count": null,
   "id": "7955faec",
   "metadata": {},
   "outputs": [],
   "source": []
  },
  {
   "cell_type": "markdown",
   "id": "3f35972c",
   "metadata": {},
   "source": [
    "**Cropped gradient image without overlapping**"
   ]
  },
  {
   "cell_type": "code",
   "execution_count": 89,
   "id": "d09f7661",
   "metadata": {},
   "outputs": [],
   "source": [
    "input_path = '/Users/karthik/GANS/Bio-Material-DATA/gradient_images2/'\n",
    "output_path = '/Users/karthik/GANS/Cropped-Gradient_Final_Bio-Material-DATA/'"
   ]
  },
  {
   "cell_type": "code",
   "execution_count": 90,
   "id": "3392ef96",
   "metadata": {},
   "outputs": [],
   "source": [
    "if not os.path.exists(output_path):\n",
    "    os.makedirs(output_path)"
   ]
  },
  {
   "cell_type": "code",
   "execution_count": 91,
   "id": "f3b997f0",
   "metadata": {},
   "outputs": [],
   "source": [
    "# Get all the PNG files from the input path\n",
    "image_files = glob.glob(input_path + '*.png')\n",
    "\n",
    "for image_file in image_files:\n",
    "    # Read the image\n",
    "    img = cv2.imread(image_file, cv2.IMREAD_UNCHANGED)\n",
    "    \n",
    "    # Calculate the dimensions of a single pattern\n",
    "    pattern_width = img.shape[1] // 4\n",
    "    pattern_height = img.shape[0] // 4\n",
    "    \n",
    "    # Crop the top-left pattern\n",
    "    cropped_img = img[0:pattern_height, 0:pattern_width]\n",
    "    \n",
    "    # Save the cropped image to the output directory\n",
    "    output_file = os.path.join(output_path, os.path.basename(image_file))\n",
    "    cv2.imwrite(output_file, cropped_img)\n"
   ]
  },
  {
   "cell_type": "code",
   "execution_count": null,
   "id": "cd56b884",
   "metadata": {},
   "outputs": [],
   "source": []
  },
  {
   "cell_type": "code",
   "execution_count": null,
   "id": "225f94df",
   "metadata": {},
   "outputs": [],
   "source": []
  },
  {
   "cell_type": "markdown",
   "id": "d01a3872",
   "metadata": {},
   "source": [
    "**Processing image to avoid overlapping with the actual bio data**"
   ]
  },
  {
   "cell_type": "code",
   "execution_count": 93,
   "id": "8fb3264d",
   "metadata": {},
   "outputs": [],
   "source": [
    "image_folder_path_g2 = '/Users/karthik/GANS/Bio-Material-DATA/'\n",
    "\n",
    "# Create the output folder if it doesn't exist\n",
    "output_folder = os.path.join(image_folder_path_g2, \"processed_images\")\n",
    "if not os.path.exists(output_folder):\n",
    "    os.makedirs(output_folder)\n",
    "\n",
    "for image_name in os.listdir(image_folder_path_g2):\n",
    "    image_path = os.path.join(image_folder_path_g2, image_name)\n",
    "    img = cv2.imread(image_path, cv2.IMREAD_GRAYSCALE)  # Read image in grayscale\n",
    "\n",
    "    # Check if the file is an image\n",
    "    if img is None:\n",
    "        continue\n",
    "\n",
    "    # 1. Enlarge\n",
    "    enlarged_img = enlarge_image(img)\n",
    "\n",
    "    # 2. Crop back to the original size\n",
    "    processed_img = crop_center(enlarged_img, img.shape[0], img.shape[1])\n",
    "\n",
    "    # 3. Save\n",
    "    output_path = os.path.join(output_folder, \"processed_\" + image_name)\n",
    "    cv2.imwrite(output_path, processed_img)\n"
   ]
  },
  {
   "cell_type": "code",
   "execution_count": null,
   "id": "399837c3",
   "metadata": {},
   "outputs": [],
   "source": []
  },
  {
   "cell_type": "code",
   "execution_count": null,
   "id": "33e0188a",
   "metadata": {},
   "outputs": [],
   "source": []
  },
  {
   "cell_type": "markdown",
   "id": "e34de684",
   "metadata": {},
   "source": [
    "**Cropping the images without overlapping**"
   ]
  },
  {
   "cell_type": "code",
   "execution_count": 96,
   "id": "b4c0feb9",
   "metadata": {},
   "outputs": [],
   "source": [
    "input_path = '/Users/karthik/GANS/Bio-Material-DATA/processed_images/'\n",
    "output_path = '/Users/karthik/GANS/Bio-Material-DATA/Cropped_images_without_overlapping/'"
   ]
  },
  {
   "cell_type": "code",
   "execution_count": 97,
   "id": "05c75ed5",
   "metadata": {},
   "outputs": [],
   "source": [
    "if not os.path.exists(output_path):\n",
    "    os.makedirs(output_path)"
   ]
  },
  {
   "cell_type": "code",
   "execution_count": 98,
   "id": "b2ee1a1e",
   "metadata": {},
   "outputs": [],
   "source": [
    "image_files = glob.glob(input_path + '*.png')\n",
    "\n",
    "for image_file in image_files:\n",
    "    # Read the image\n",
    "    img = cv2.imread(image_file, cv2.IMREAD_UNCHANGED)\n",
    "    \n",
    "    # Calculate the dimensions of a single pattern\n",
    "    pattern_width = img.shape[1] // 4\n",
    "    pattern_height = img.shape[0] // 4\n",
    "    \n",
    "    # Crop the top-left pattern\n",
    "    cropped_img = img[0:pattern_height, 0:pattern_width]\n",
    "    \n",
    "    # Save the cropped image to the output directory\n",
    "    output_file = os.path.join(output_path, os.path.basename(image_file))\n",
    "    cv2.imwrite(output_file, cropped_img)\n"
   ]
  },
  {
   "cell_type": "code",
   "execution_count": null,
   "id": "82744690",
   "metadata": {},
   "outputs": [],
   "source": []
  },
  {
   "cell_type": "code",
   "execution_count": null,
   "id": "3fb5106b",
   "metadata": {},
   "outputs": [],
   "source": []
  },
  {
   "cell_type": "code",
   "execution_count": null,
   "id": "92379f3a",
   "metadata": {},
   "outputs": [],
   "source": []
  },
  {
   "cell_type": "markdown",
   "id": "9ca76944",
   "metadata": {},
   "source": [
    "**Segregrating without overlapping images into pixel size**"
   ]
  },
  {
   "cell_type": "code",
   "execution_count": 102,
   "id": "aac488d3",
   "metadata": {},
   "outputs": [
    {
     "name": "stdout",
     "output_type": "stream",
     "text": [
      "Images have been sorted.\n"
     ]
    }
   ],
   "source": [
    "if not os.path.exists(below_130_path):\n",
    "    os.makedirs(below_130_path)\n",
    "\n",
    "if not os.path.exists(above_or_equal_130_path):\n",
    "    os.makedirs(above_or_equal_130_path)\n",
    "\n",
    "# Go through each image in the folder\n",
    "for img_file in os.listdir(image_folder_path):\n",
    "    file_path = os.path.join(image_folder_path, img_file)\n",
    "\n",
    "    # Check if the path points to a file (and not a directory)\n",
    "    if os.path.isfile(file_path):\n",
    "\n",
    "        # Read the image\n",
    "        img = cv2.imread(file_path, cv2.IMREAD_GRAYSCALE) # Assuming grayscale images for simplicity\n",
    "        \n",
    "        # Check if image loading was successful\n",
    "        if img is not None:\n",
    "            avg_pixel_value = np.mean(img)\n",
    "\n",
    "            # Move the file based on the average pixel value\n",
    "            if avg_pixel_value < 130:\n",
    "                os.rename(file_path, os.path.join(below_130_path, img_file))\n",
    "            else:\n",
    "                os.rename(file_path, os.path.join(above_or_equal_130_path, img_file))\n",
    "\n",
    "print(\"Images have been sorted.\")"
   ]
  },
  {
   "cell_type": "code",
   "execution_count": null,
   "id": "335899d2",
   "metadata": {},
   "outputs": [],
   "source": []
  },
  {
   "cell_type": "code",
   "execution_count": 4,
   "id": "ca1afd25",
   "metadata": {},
   "outputs": [],
   "source": [
    "import glob"
   ]
  },
  {
   "cell_type": "markdown",
   "id": "965e583b",
   "metadata": {},
   "source": [
    "**Resizing the cropped topo images which are above 200 pixels**"
   ]
  },
  {
   "cell_type": "code",
   "execution_count": 7,
   "id": "c2376892",
   "metadata": {},
   "outputs": [
    {
     "name": "stdout",
     "output_type": "stream",
     "text": [
      "Resizing complete!\n"
     ]
    }
   ],
   "source": [
    "input_path_a = '/Users/karthik/GANS/Bio_Material_DATA/1by4/above_200/'\n",
    "output_path_a = '/Users/karthik/GANS/Bio_Material_DATA/1by4/resized_images_above_200/'\n",
    "\n",
    "if not os.path.exists(output_path_a):\n",
    "    os.makedirs(output_path_a)\n",
    "    \n",
    "for image_file in glob.glob(os.path.join(input_path_a, '*.png')):\n",
    "    # Assuming PNG format, change accordingly if different\n",
    "    # Read the image\n",
    "    img = cv2.imread(image_file)\n",
    "    \n",
    "    # Resize the image\n",
    "    resized_img = cv2.resize(img, (192, 192), interpolation=cv2.INTER_AREA)\n",
    "    \n",
    "    # Construct the output file path and save the image\n",
    "    base_name = os.path.basename(image_file)\n",
    "    output_file_path = os.path.join(output_path_a, base_name)\n",
    "    cv2.imwrite(output_file_path, resized_img)\n",
    "\n",
    "print(\"Resizing complete!\")"
   ]
  },
  {
   "cell_type": "code",
   "execution_count": null,
   "id": "44b0655c",
   "metadata": {},
   "outputs": [],
   "source": []
  }
 ],
 "metadata": {
  "kernelspec": {
   "display_name": "Python 3 (ipykernel)",
   "language": "python",
   "name": "python3"
  },
  "language_info": {
   "codemirror_mode": {
    "name": "ipython",
    "version": 3
   },
   "file_extension": ".py",
   "mimetype": "text/x-python",
   "name": "python",
   "nbconvert_exporter": "python",
   "pygments_lexer": "ipython3",
   "version": "3.11.5"
  }
 },
 "nbformat": 4,
 "nbformat_minor": 5
}
