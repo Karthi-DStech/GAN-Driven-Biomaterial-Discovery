{
 "cells": [
  {
   "cell_type": "code",
   "execution_count": 1,
   "id": "9a335315",
   "metadata": {},
   "outputs": [],
   "source": [
    "import torch\n",
    "import torch.nn as nn\n",
    "import torch.nn.functional as F\n",
    "\n",
    "from torch.utils.data import DataLoader\n",
    "from torchvision import transforms, datasets, models\n",
    "\n",
    "import numpy as np\n",
    "import pandas as pd\n",
    "import matplotlib.pyplot as plt\n",
    "import seaborn as sns"
   ]
  },
  {
   "cell_type": "code",
   "execution_count": 2,
   "id": "375c3360",
   "metadata": {},
   "outputs": [],
   "source": [
    "import os\n",
    "from PIL import Image\n",
    "from IPython.display import display\n",
    "\n",
    "import warnings\n",
    "warnings.filterwarnings('ignore')"
   ]
  },
  {
   "cell_type": "code",
   "execution_count": 41,
   "id": "318fbbc0",
   "metadata": {},
   "outputs": [],
   "source": [
    "import glob"
   ]
  },
  {
   "cell_type": "code",
   "execution_count": 3,
   "id": "01063315",
   "metadata": {},
   "outputs": [],
   "source": [
    "import cv2\n",
    "from cv2 import dnn_superres"
   ]
  },
  {
   "cell_type": "code",
   "execution_count": null,
   "id": "8ee20383",
   "metadata": {},
   "outputs": [],
   "source": []
  },
  {
   "cell_type": "markdown",
   "id": "0cc44f03",
   "metadata": {},
   "source": [
    "**Importing the pretrained model - EDSR**"
   ]
  },
  {
   "cell_type": "code",
   "execution_count": 4,
   "id": "e0cb583e",
   "metadata": {},
   "outputs": [],
   "source": [
    "sr = dnn_superres.DnnSuperResImpl_create()\n",
    "\n",
    "path = '/Users/karthik/EDSR_x2.pb'"
   ]
  },
  {
   "cell_type": "code",
   "execution_count": 5,
   "id": "0e91e620",
   "metadata": {},
   "outputs": [],
   "source": [
    "sr.readModel(path)"
   ]
  },
  {
   "cell_type": "code",
   "execution_count": 6,
   "id": "346ddd52",
   "metadata": {},
   "outputs": [],
   "source": [
    "sr.setModel('edsr', 2)"
   ]
  },
  {
   "cell_type": "markdown",
   "id": "1956e23e",
   "metadata": {},
   "source": [
    "**Load the image**"
   ]
  },
  {
   "cell_type": "code",
   "execution_count": 7,
   "id": "430a0ecd",
   "metadata": {},
   "outputs": [],
   "source": [
    "image_path = '/Users/karthik/GANS/Bio_Material_DATA/1by4/below_100/processed_Pattern_FeatureIdx_1013_TopoUnit_4X4.png'"
   ]
  },
  {
   "cell_type": "code",
   "execution_count": 29,
   "id": "1477607f",
   "metadata": {},
   "outputs": [
    {
     "data": {
      "image/png": "[encoded data removed]",
      "text/plain": [
       "<PIL.Image.Image image mode=L size=200x200>"
      ]
     },
     "metadata": {},
     "output_type": "display_data"
    }
   ],
   "source": [
    "img = Image.open(image_path)\n",
    "\n",
    "# Set the desired display width and height in pixels\n",
    "display_width = 200\n",
    "display_height = 200\n",
    "\n",
    "# Display the image with the specified dimensions\n",
    "display(img.resize((display_width, display_height)))"
   ]
  },
  {
   "cell_type": "code",
   "execution_count": 31,
   "id": "07d16b6b",
   "metadata": {},
   "outputs": [
    {
     "data": {
      "text/plain": [
       "(98, 95)"
      ]
     },
     "execution_count": 31,
     "metadata": {},
     "output_type": "execute_result"
    }
   ],
   "source": [
    "img.size"
   ]
  },
  {
   "cell_type": "code",
   "execution_count": null,
   "id": "960c2aa8",
   "metadata": {},
   "outputs": [],
   "source": []
  },
  {
   "cell_type": "code",
   "execution_count": 9,
   "id": "58b14d16",
   "metadata": {},
   "outputs": [],
   "source": [
    "image = cv2.imread(image_path)"
   ]
  },
  {
   "cell_type": "markdown",
   "id": "fa32be01",
   "metadata": {},
   "source": [
    "**Upscaling the Image**"
   ]
  },
  {
   "cell_type": "code",
   "execution_count": 10,
   "id": "725d62a9",
   "metadata": {},
   "outputs": [],
   "source": [
    "upscaled = sr.upsample(image)"
   ]
  },
  {
   "cell_type": "code",
   "execution_count": 11,
   "id": "14544dbc",
   "metadata": {},
   "outputs": [
    {
     "data": {
      "text/plain": [
       "True"
      ]
     },
     "execution_count": 11,
     "metadata": {},
     "output_type": "execute_result"
    }
   ],
   "source": [
    "cv2.imwrite('upscaled_topo_EDSR.png', upscaled)"
   ]
  },
  {
   "cell_type": "code",
   "execution_count": null,
   "id": "343483cb",
   "metadata": {},
   "outputs": [],
   "source": []
  },
  {
   "cell_type": "markdown",
   "id": "32363b06",
   "metadata": {},
   "source": [
    "**Using LapSRN**"
   ]
  },
  {
   "cell_type": "code",
   "execution_count": 12,
   "id": "d814aa2c",
   "metadata": {},
   "outputs": [],
   "source": [
    "sr = dnn_superres.DnnSuperResImpl_create()"
   ]
  },
  {
   "cell_type": "code",
   "execution_count": 13,
   "id": "050881c9",
   "metadata": {},
   "outputs": [],
   "source": [
    "path = '/Users/karthik/LapSRN_x2.pb'\n",
    "sr.readModel(path)\n",
    "sr.setModel('lapsrn', 2)"
   ]
  },
  {
   "cell_type": "code",
   "execution_count": 14,
   "id": "2b875bda",
   "metadata": {},
   "outputs": [],
   "source": [
    "upscaled = sr.upsample(image)"
   ]
  },
  {
   "cell_type": "code",
   "execution_count": 15,
   "id": "fc2ca3bf",
   "metadata": {},
   "outputs": [
    {
     "data": {
      "text/plain": [
       "True"
      ]
     },
     "execution_count": 15,
     "metadata": {},
     "output_type": "execute_result"
    }
   ],
   "source": [
    "cv2.imwrite('upscaled_topo_LapSRN.png', upscaled)"
   ]
  },
  {
   "cell_type": "code",
   "execution_count": null,
   "id": "53777b13",
   "metadata": {},
   "outputs": [],
   "source": []
  },
  {
   "cell_type": "code",
   "execution_count": null,
   "id": "c29eef55",
   "metadata": {},
   "outputs": [],
   "source": []
  },
  {
   "cell_type": "markdown",
   "id": "60da8521",
   "metadata": {},
   "source": [
    "**Loading the upscaled image using EDSR**"
   ]
  },
  {
   "cell_type": "code",
   "execution_count": 32,
   "id": "36f655df",
   "metadata": {},
   "outputs": [
    {
     "data": {
      "image/png": "[encoded data removed]",
      "text/plain": [
       "<PIL.Image.Image image mode=RGB size=200x200>"
      ]
     },
     "metadata": {},
     "output_type": "display_data"
    }
   ],
   "source": [
    "image_path_edsr = '/Users/karthik/GANS/upscaled_topo_EDSR.png'\n",
    "\n",
    "image_edsr = Image.open(image_path_edsr)\n",
    "\n",
    "# Set the desired display width and height in pixels\n",
    "display_width = 200\n",
    "display_height = 200\n",
    "\n",
    "# Display the image with the specified dimensions\n",
    "display(image_edsr.resize((display_width, display_height)))"
   ]
  },
  {
   "cell_type": "code",
   "execution_count": 33,
   "id": "a551ce1c",
   "metadata": {},
   "outputs": [
    {
     "data": {
      "text/plain": [
       "(196, 190)"
      ]
     },
     "execution_count": 33,
     "metadata": {},
     "output_type": "execute_result"
    }
   ],
   "source": [
    "image_edsr.size"
   ]
  },
  {
   "cell_type": "code",
   "execution_count": null,
   "id": "5d502153",
   "metadata": {},
   "outputs": [],
   "source": []
  },
  {
   "cell_type": "markdown",
   "id": "f84c3198",
   "metadata": {},
   "source": [
    "**Loading the upscaled image using LapSRN**"
   ]
  },
  {
   "cell_type": "code",
   "execution_count": 34,
   "id": "6a9964e4",
   "metadata": {},
   "outputs": [
    {
     "data": {
      "image/png": "[encoded data removed]",
      "text/plain": [
       "<PIL.Image.Image image mode=RGB size=200x200>"
      ]
     },
     "metadata": {},
     "output_type": "display_data"
    }
   ],
   "source": [
    "image_path_lap = '/Users/karthik/GANS/upscaled_topo_LapSRN.png'\n",
    "\n",
    "image_lap = Image.open(image_path_lap)\n",
    "\n",
    "# Set the desired display width and height in pixels\n",
    "display_width = 200\n",
    "display_height = 200\n",
    "\n",
    "# Display the image with the specified dimensions\n",
    "display(image_lap.resize((display_width, display_height)))"
   ]
  },
  {
   "cell_type": "code",
   "execution_count": 35,
   "id": "37a44f03",
   "metadata": {},
   "outputs": [
    {
     "data": {
      "text/plain": [
       "(196, 190)"
      ]
     },
     "execution_count": 35,
     "metadata": {},
     "output_type": "execute_result"
    }
   ],
   "source": [
    "image_lap.size"
   ]
  },
  {
   "cell_type": "code",
   "execution_count": null,
   "id": "ac28eaf0",
   "metadata": {},
   "outputs": [],
   "source": []
  },
  {
   "cell_type": "markdown",
   "id": "ca90bda7",
   "metadata": {},
   "source": [
    "**Evaluating the upscaled images using PSNR Score**"
   ]
  },
  {
   "cell_type": "markdown",
   "id": "f93294b7",
   "metadata": {},
   "source": [
    "- Evaluating EDSR  "
   ]
  },
  {
   "cell_type": "code",
   "execution_count": 20,
   "id": "402d6ed6",
   "metadata": {},
   "outputs": [],
   "source": [
    "def mse(imageA, imageB):\n",
    "    # The 'float' casting here is to avoid overflow issues for uint8\n",
    "    err = np.sum((imageA.astype(\"float\") - imageB.astype(\"float\")) ** 2)\n",
    "    err /= float(imageA.shape[0] * imageA.shape[1] * imageA.shape[2])\n",
    "    return err\n",
    "\n",
    "def psnr(original, upscaled):\n",
    "    mse_value = mse(original, upscaled)\n",
    "    if mse_value == 0:\n",
    "        return float('inf')  # Infinite PSNR if no noise is present\n",
    "    max_pixel = 255.0\n",
    "    psnr_value = 20 * np.log10(max_pixel / np.sqrt(mse_value))\n",
    "    return psnr_value"
   ]
  },
  {
   "cell_type": "code",
   "execution_count": 21,
   "id": "e507bcf9",
   "metadata": {},
   "outputs": [],
   "source": [
    "original = cv2.imread(image_path)\n",
    "upscaled = cv2.imread('/Users/karthik/GANS/upscaled_topo_EDSR.png')"
   ]
  },
  {
   "cell_type": "code",
   "execution_count": 22,
   "id": "57892a99",
   "metadata": {},
   "outputs": [
    {
     "name": "stdout",
     "output_type": "stream",
     "text": [
      "Original image shape: (95, 98, 3)\n",
      "Upscaled image shape: (190, 196, 3)\n",
      "PSNR value is 31.23505431117705 dB\n"
     ]
    }
   ],
   "source": [
    "# Ensure both images are loaded\n",
    "if original is None or upscaled is None:\n",
    "    print(\"Error: One of the images did not load correctly. Check file paths.\")\n",
    "    exit()\n",
    "\n",
    "# Print out the shape of the images\n",
    "print(f\"Original image shape: {original.shape}\")\n",
    "print(f\"Upscaled image shape: {upscaled.shape}\")\n",
    "\n",
    "# Convert images to the same number of channels if necessary\n",
    "if len(original.shape) != len(upscaled.shape):\n",
    "    if len(original.shape) == 2:  # original image is grayscale\n",
    "        original = cv2.cvtColor(original, cv2.COLOR_GRAY2BGR)\n",
    "    elif len(upscaled.shape) == 2:  # upscaled image is grayscale\n",
    "        upscaled = cv2.cvtColor(upscaled, cv2.COLOR_GRAY2BGR)\n",
    "\n",
    "# Resize the upscaled image to the size of the original image\n",
    "upscaled_downscaled = cv2.resize(upscaled, (original.shape[1], original.shape[0]), interpolation=cv2.INTER_AREA)\n",
    "\n",
    "# Calculate PSNR\n",
    "psnr_value = psnr(original, upscaled_downscaled)\n",
    "print(f\"PSNR value is {psnr_value} dB\")"
   ]
  },
  {
   "cell_type": "code",
   "execution_count": null,
   "id": "1fc3a3ae",
   "metadata": {},
   "outputs": [],
   "source": []
  },
  {
   "cell_type": "markdown",
   "id": "201bb700",
   "metadata": {},
   "source": [
    "- Evaluating LapSRN"
   ]
  },
  {
   "cell_type": "code",
   "execution_count": null,
   "id": "ccef6ee0",
   "metadata": {},
   "outputs": [],
   "source": []
  },
  {
   "cell_type": "code",
   "execution_count": 26,
   "id": "f172b917",
   "metadata": {},
   "outputs": [],
   "source": [
    "original_path = image_path\n",
    "upscaled_path = '/Users/karthik/GANS/upscaled_topo_LapSRN.png'\n",
    "\n",
    "# Load the images\n",
    "original = cv2.imread(original_path)\n",
    "upscaled = cv2.imread(upscaled_path)"
   ]
  },
  {
   "cell_type": "code",
   "execution_count": 27,
   "id": "433cda24",
   "metadata": {},
   "outputs": [
    {
     "name": "stdout",
     "output_type": "stream",
     "text": [
      "Original image shape: (95, 98, 3)\n",
      "Upscaled image shape: (190, 196, 3)\n",
      "PSNR value is 28.038171024541818 dB\n"
     ]
    }
   ],
   "source": [
    " # Ensure both images are loaded\n",
    "if original is None or upscaled is None:\n",
    "    print(\"Error: One of the images did not load correctly. Check file paths.\")\n",
    "    exit()\n",
    "\n",
    "# Print out the shape of the images\n",
    "print(f\"Original image shape: {original.shape}\")\n",
    "print(f\"Upscaled image shape: {upscaled.shape}\")\n",
    "\n",
    "# Convert images to the same number of channels if necessary\n",
    "if len(original.shape) != len(upscaled.shape):\n",
    "    if len(original.shape) == 2:  # original image is grayscale\n",
    "        original = cv2.cvtColor(original, cv2.COLOR_GRAY2BGR)\n",
    "    elif len(upscaled.shape) == 2:  # upscaled image is grayscale\n",
    "        upscaled = cv2.cvtColor(upscaled, cv2.COLOR_GRAY2BGR)\n",
    "\n",
    "# Resize the upscaled image to the size of the original image\n",
    "upscaled_downscaled = cv2.resize(upscaled, (original.shape[1], original.shape[0]), interpolation=cv2.INTER_AREA)\n",
    "\n",
    "# Calculate PSNR\n",
    "psnr_value = psnr(original, upscaled_downscaled)\n",
    "print(f\"PSNR value is {psnr_value} dB\")"
   ]
  },
  {
   "cell_type": "code",
   "execution_count": null,
   "id": "dd2f6d87",
   "metadata": {},
   "outputs": [],
   "source": []
  },
  {
   "cell_type": "code",
   "execution_count": null,
   "id": "ea9113de",
   "metadata": {},
   "outputs": [],
   "source": []
  },
  {
   "cell_type": "markdown",
   "id": "adb453e6",
   "metadata": {},
   "source": [
    "**Upscaling all the images below 100 pixels using EDSR**"
   ]
  },
  {
   "cell_type": "code",
   "execution_count": 36,
   "id": "e4a5f45d",
   "metadata": {},
   "outputs": [],
   "source": [
    "sr = cv2.dnn_superres.DnnSuperResImpl_create()"
   ]
  },
  {
   "cell_type": "code",
   "execution_count": 38,
   "id": "a14f088a",
   "metadata": {},
   "outputs": [],
   "source": [
    "model_path = '/Users/karthik/EDSR_x2.pb'\n",
    "sr.readModel(model_path)\n",
    "sr.setModel('edsr', 2)"
   ]
  },
  {
   "cell_type": "code",
   "execution_count": 39,
   "id": "b30a7b84",
   "metadata": {},
   "outputs": [],
   "source": [
    "input_folder = '/Users/karthik/GANS/Bio_Material_DATA/1by4/below_100/'\n",
    "\n",
    "output_folder = '/Users/karthik/GANS/Bio_Material_DATA/1by4/upscaled_below_100/'\n",
    "if not os.path.exists(output_folder):\n",
    "    os.makedirs(output_folder)"
   ]
  },
  {
   "cell_type": "code",
   "execution_count": 42,
   "id": "48cbb2d4",
   "metadata": {},
   "outputs": [],
   "source": [
    "image_files = glob.glob(os.path.join(input_folder, \"*.png\"))"
   ]
  },
  {
   "cell_type": "code",
   "execution_count": 43,
   "id": "04a44281",
   "metadata": {},
   "outputs": [
    {
     "name": "stdout",
     "output_type": "stream",
     "text": [
      "Upscaling complete!\n"
     ]
    }
   ],
   "source": [
    "for image_file in image_files:\n",
    "    # Read the image\n",
    "    image = cv2.imread(image_file)\n",
    "\n",
    "    # Upsample the image\n",
    "    upscaled = sr.upsample(image)\n",
    "\n",
    "    # Define output filename\n",
    "    base_name = os.path.basename(image_file)\n",
    "    output_file = os.path.join(output_folder, \"upscaled_\" + base_name)\n",
    "\n",
    "    # Save the upscaled image\n",
    "    cv2.imwrite(output_file, upscaled)\n",
    "\n",
    "print(\"Upscaling complete!\")"
   ]
  },
  {
   "cell_type": "code",
   "execution_count": null,
   "id": "51e52a9a",
   "metadata": {},
   "outputs": [],
   "source": []
  }
 ],
 "metadata": {
  "kernelspec": {
   "display_name": "Python 3 (ipykernel)",
   "language": "python",
   "name": "python3"
  },
  "language_info": {
   "codemirror_mode": {
    "name": "ipython",
    "version": 3
   },
   "file_extension": ".py",
   "mimetype": "text/x-python",
   "name": "python",
   "nbconvert_exporter": "python",
   "pygments_lexer": "ipython3",
   "version": "3.11.5"
  }
 },
 "nbformat": 4,
 "nbformat_minor": 5
}
